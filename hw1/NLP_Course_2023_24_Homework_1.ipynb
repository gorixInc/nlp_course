{
  "cells": [
    {
      "cell_type": "markdown",
      "metadata": {
        "id": "YJ6h5FIEYWfK"
      },
      "source": [
        "# Homework 1"
      ]
    },
    {
      "cell_type": "markdown",
      "metadata": {
        "id": "KcjhFE0XYVJD"
      },
      "source": [
        "The first homework is comprised of two separate parts:\n",
        "\n",
        "\n",
        "1.  Text preprocessing and representation\n",
        "2.  Word embeddings\n",
        "\n",
        "You can get 10 points for this homework: 5 points for the first part, and 5 points for the second part.\n",
        "\n",
        "To do this homework make a copy of this notebook (`File` -> `Save a copy in Drive`) and work on it. Alternatively, download the notebook, if you want to work on it locally (`File` -> `Download` -> `Download .ipynb`).\n",
        "\n",
        "When submitting the homework, please make sure to run all the cells, see that there are no errors, and the outputs for all cells are present in the saved version that you submit.\n",
        "\n",
        "**Note: Please also state at the beginning of your homework if you collaborated with anybody when doing the work and the names of your collaborators if you had them.**"
      ]
    },
    {
      "cell_type": "code",
      "execution_count": 1,
      "metadata": {
        "colab": {
          "base_uri": "https://localhost:8080/"
        },
        "id": "7sUaDRGEYUPb",
        "outputId": "90078fb3-f436-4a49-f5f1-3478a4f9b89f"
      },
      "outputs": [],
      "source": [
        "!pip install --quiet datasets evaluate"
      ]
    },
    {
      "cell_type": "markdown",
      "metadata": {
        "id": "9_41lSAMZ4FP"
      },
      "source": [
        "## Part A: Text preprocessing and representation (5 points)"
      ]
    },
    {
      "cell_type": "markdown",
      "metadata": {
        "id": "L_wkSx41aNHy"
      },
      "source": [
        "In part A of the homework, we will use the [IMDB](https://huggingface.co/datasets/imdb) dataset. IMDB is a movie review dataset for binary sentiment classification. The dataset provides 25,000 movie reviews for training and 25,000 for testing. You will explore the dataset in Task 1 and build a text classification pipeline in Task 2.\n"
      ]
    },
    {
      "cell_type": "code",
      "execution_count": 2,
      "metadata": {
        "colab": {
          "base_uri": "https://localhost:8080/",
          "height": 712,
          "referenced_widgets": [
            "c2ec4b472f344f25a57d381e38cacf76",
            "fbe1ff2afa4d4fddb4deb0d0935b6898",
            "65a9ff43c6a74fa39f4be7963c040e7a",
            "e2383d477c6148ff9a358eb722e1b57a",
            "9e443582cb8c4a378c055268e1a1c55f",
            "09fe9d67642a4ffe986b61279db3e28a",
            "330b5ba9724640128ba49b5a10ee608b",
            "037e343252ea41a2b59d717732aaf31c",
            "c814b5d8b92d4887aebff24d2735e391",
            "aaaaf486c915421a9602272564c346f7",
            "347129e67dd14b669841cbc0a405ce2f",
            "a42bfbf364a44732bf7328e13071f8bc",
            "13bd14e908da4387b13fb1565c507c3b",
            "48b6c435492542f6b5419546ee915146",
            "ec1339e9294d460fbdf7c924f112d105",
            "861742694dc74de383d761a28f7f41b8",
            "833c0a7fa77e4674b555be910c1a1384",
            "1ab00114fd98432984f74515e7a60ba9",
            "b2a8092a00a044968b4628aa458c9832",
            "71ca3ba8232a40f18ec04b076992a8e7",
            "aed838957c5544bbaa027aa295cdaa78",
            "6f3bfd463cbc4489b13920200c111037",
            "77fa40f86af34032bec4bd51f915b4ee",
            "c744c86e934a413a8525fc1373520e5e",
            "21609958243041bd9499007684519bab",
            "ae0bee79ea70436a979c111bcb00fb94",
            "9043300d9f824d828e2b9196eb6fa28e",
            "d6a0e81b862c4d55882eb0e53fe64bcf",
            "d4531f7461e0485392e9927b8c1a4a08",
            "1adaa894a3ea42b6b62cd332a5d770c2",
            "d8dc85f3ea2e45658a3c27060d2eab81",
            "5aaedfe285af425d9c230f3e78a21b56",
            "1c7413877f14406f818e7083f5279ed1",
            "c956f00a6897441eaae056a722e2a800",
            "3818968b5a244d8c9d5a5582272f47d0",
            "c2b5b182dfee493f93520a557d444426",
            "32f6e372a3494146aefdcbcc366d4472",
            "33945dfffb734491ba39b945e7f3f7a4",
            "7d2df1eaa2db4cc399baf66e25cf0656",
            "f09cd621b03946c88874a38ba91125f6",
            "76857aa0b19942d89742bbbe463381fc",
            "f4f928fab615449e8803c76d2b76c111",
            "33e01cdd50ed4b3fb46e27190c672f75",
            "db428e314f1b4c75a87d036efaa4707a",
            "0ea77b3d79b64357bfb1ac6eb0a5ef82",
            "e79eecafecaf4b0fa57cceaf6645064c",
            "379edc3b33414170a56808556a180ea9",
            "063a6e084d7a4c8fb29332907b71538a",
            "c5e4874650e3419eb882eee73af56e68",
            "b4dc3fdb40f94a0e868cb1ebbfd59a6d",
            "6448167e7f5a41f5b3ea3cdc4bbadf2d",
            "b1a89ec1408745af88f4fb6d474e0491",
            "bc8315e188704ab698231eddb3c68032",
            "29925363e821469cbae38a60ec955a35",
            "1b2f2aad31d54ec3baa9a1e4caaa313d",
            "045b7f4858d246649ec021d2795ecbb0",
            "88ef84b6d8864e27ba92b89978084bc8",
            "90c9fca52e26453788b0a692aa74c2cf",
            "159bb3525832426dbd0c832fe57af37b",
            "22d41b6f8cfa48569e2ea1fb405fd31f",
            "b720d7ab0de7436c9365183cee10659d",
            "e063cd82c1fa4fd997dfabcd83cbc4d1",
            "2bc9b1a266b7488d9271e72aaff4de92",
            "ffbceec5fbff4958b06cc0a203c58f49",
            "ed8e4cf768e84fea871ce81c6d6d2643",
            "e3ab6ed51b754fb1951b58ae7c5b26e0",
            "7f72ea99fbd04285a69e0fd73dfc79a5",
            "3ad4e32041724d0ab92ac04b5297c14f",
            "2a33c51d796a4676bc713be9bfe90a1e",
            "13770ff45c11453fb3adb58ced163854",
            "c842141a547a44de8d31d61154e798d7",
            "af56782565e7429d8dd27de2c4845ace",
            "abbb26c6d17442a3960a183c3e0301c0",
            "683c63e7f2784d0684fa6451d58c006c",
            "b8d7504657a8476286b831615f7b1bbf",
            "e18b133991c34b8385fa37348ee2715a",
            "e321facb9793445f93f05230a4067a89"
          ]
        },
        "id": "q2npuLkyaSw0",
        "outputId": "afb7edda-1f23-40da-acf5-73ba5c702e23"
      },
      "outputs": [
        {
          "name": "stderr",
          "output_type": "stream",
          "text": [
            "c:\\Users\\Gordei\\miniconda3\\envs\\nlp\\Lib\\site-packages\\tqdm\\auto.py:21: TqdmWarning: IProgress not found. Please update jupyter and ipywidgets. See https://ipywidgets.readthedocs.io/en/stable/user_install.html\n",
            "  from .autonotebook import tqdm as notebook_tqdm\n",
            "[nltk_data] Downloading package punkt to\n",
            "[nltk_data]     C:\\Users\\Gordei\\AppData\\Roaming\\nltk_data...\n",
            "[nltk_data]   Unzipping tokenizers\\punkt.zip.\n",
            "[nltk_data] Downloading package wordnet to\n",
            "[nltk_data]     C:\\Users\\Gordei\\AppData\\Roaming\\nltk_data...\n",
            "[nltk_data] Downloading package averaged_perceptron_tagger to\n",
            "[nltk_data]     C:\\Users\\Gordei\\AppData\\Roaming\\nltk_data...\n",
            "[nltk_data]   Unzipping taggers\\averaged_perceptron_tagger.zip.\n",
            "Downloading readme: 100%|██████████| 7.81k/7.81k [00:00<00:00, 28.5MB/s]\n",
            "Downloading data: 100%|██████████| 21.0M/21.0M [00:04<00:00, 4.51MB/s]\n",
            "Downloading data: 100%|██████████| 20.5M/20.5M [00:04<00:00, 5.02MB/s]\n",
            "Downloading data: 100%|██████████| 42.0M/42.0M [00:08<00:00, 4.94MB/s]\n",
            "Generating train split: 100%|██████████| 25000/25000 [00:00<00:00, 324990.70 examples/s]\n",
            "Generating test split: 100%|██████████| 25000/25000 [00:00<00:00, 336624.75 examples/s]\n",
            "Generating unsupervised split: 100%|██████████| 50000/50000 [00:00<00:00, 400125.16 examples/s]\n"
          ]
        },
        {
          "data": {
            "text/plain": [
              "DatasetDict({\n",
              "    train: Dataset({\n",
              "        features: ['text', 'label'],\n",
              "        num_rows: 25000\n",
              "    })\n",
              "    test: Dataset({\n",
              "        features: ['text', 'label'],\n",
              "        num_rows: 25000\n",
              "    })\n",
              "    unsupervised: Dataset({\n",
              "        features: ['text', 'label'],\n",
              "        num_rows: 50000\n",
              "    })\n",
              "})"
            ]
          },
          "execution_count": 2,
          "metadata": {},
          "output_type": "execute_result"
        }
      ],
      "source": [
        "from datasets import load_dataset\n",
        "import nltk\n",
        "nltk.download('punkt')\n",
        "nltk.download('wordnet')\n",
        "nltk.download('averaged_perceptron_tagger')\n",
        "dataset = load_dataset(\"imdb\")\n",
        "\n",
        "dataset"
      ]
    },
    {
      "cell_type": "code",
      "execution_count": 3,
      "metadata": {
        "colab": {
          "base_uri": "https://localhost:8080/"
        },
        "id": "5o7Ls2xxbXMo",
        "outputId": "b6ff6fe9-ee48-497d-f495-ead234d93f54"
      },
      "outputs": [
        {
          "data": {
            "text/plain": [
              "{'text': 'Those of the \"Instant Gratification\" era of horror films will no doubt complain about this film\\'s pace and lack of gratuitous effects and body count. The fact is, \"The Empty Acre\" is a good a example of how independent horror films should be done.<br /><br />If you avoid the indie racks because you are tired of annoying teens or twenty somethings getting killed by some baddie whose back-story could have come off the back of a Count Chocula box, \"The Empty Acre\" is the movie for you.<br /><br />Set in the decaying remnants of the rural American dream, \"The Empty Acre\" is the tale of a young couple struggling with the disappearance of their six-month-old baby. As the couple\\'s weak relationship falls apart, a larger story plays out in the background. At night, a shapeless dark mass seethes from a sun baked barren acre on their farm and seemingly devours anything in its path, leaving no sign that it was ever there.<br /><br />The film is loaded with enigmatic characters and visual clues as to what is happening, and ends with a well executed ending that resonates with just enough left over questions to validate the writer/director\\'s faith in an intellectual audience.<br /><br />There seems to be a sub-text concerning the death of the American dream, but I would hardly call the film an allegory. Riveting, well acted, and technically astute, \"The Empty Acre\" is a fantastic little indie that thinking horror fans should love.',\n",
              " 'label': 1}"
            ]
          },
          "execution_count": 3,
          "metadata": {},
          "output_type": "execute_result"
        }
      ],
      "source": [
        "dataset['train'][15001]"
      ]
    },
    {
      "cell_type": "markdown",
      "metadata": {
        "id": "7sx3cYLSjykM"
      },
      "source": [
        "### Task 1. Dataset statistics (2 points)"
      ]
    },
    {
      "cell_type": "markdown",
      "metadata": {
        "id": "x8O14S2hYsvK"
      },
      "source": [
        "\n",
        "#### Task 1.1. General dataset statistics [1 points]\n",
        "\n",
        "Tokenize reviews using either NLTK or spaCy.\n",
        "Compute the number of sentences, number of tokens, and number of unique tokens per review.\n",
        "Report the following statistics for both train and test sets:\n",
        "\n",
        "*   average number of sentences\n",
        "*   average number of tokens\n",
        "*   average number of unique tokens (word types)\n",
        "*   maximum number of sentences\n",
        "*   maximum number of tokens\n",
        "*   maximum number of unique tokens (word types)\n"
      ]
    },
    {
      "cell_type": "code",
      "execution_count": 4,
      "metadata": {
        "colab": {
          "base_uri": "https://localhost:8080/"
        },
        "id": "MC5HTMqBShXH",
        "outputId": "c005a48a-5064-4fc4-fd14-7b67904e34c6"
      },
      "outputs": [
        {
          "name": "stdout",
          "output_type": "stream",
          "text": [
            "avg sentence count: 10.84228\n",
            "avg word count: 282.61352\n",
            "avg dict size: 153.71348\n",
            "max sentence count: 282\n",
            "max word count: 2818\n",
            "max dict size: 726\n"
          ]
        }
      ],
      "source": [
        "from nltk.tokenize import sent_tokenize, word_tokenize\n",
        "\n",
        "import numpy as np\n",
        "\n",
        "sent_counts, word_counts,  dict_lens = [], [], []\n",
        "for review in dataset['train']:\n",
        "  review = review['text']\n",
        "  sent_tokenized = sent_tokenize(review)\n",
        "  word_tokenized = word_tokenize(review)\n",
        "  n_sent = len(sent_tokenized)\n",
        "  n_words = len(word_tokenized)\n",
        "  n_uq_words = len(set(word_tokenized))\n",
        "\n",
        "  sent_counts.append(n_sent)\n",
        "  word_counts.append(n_words)\n",
        "  dict_lens.append(n_uq_words)\n",
        "\n",
        "print(f'avg sentence count: {np.mean(sent_counts)}')\n",
        "print(f'avg word count: {np.mean(word_counts)}')\n",
        "print(f'avg dict size: {np.mean(dict_lens)}')\n",
        "\n",
        "print(f'max sentence count: {np.max(sent_counts)}')\n",
        "print(f'max word count: {np.max(word_counts)}')\n",
        "print(f'max dict size: {np.max(dict_lens)}')\n"
      ]
    },
    {
      "cell_type": "markdown",
      "metadata": {
        "id": "a_C_DraYeml-"
      },
      "source": [
        "#### Task 1.2. Lemmatization  and case-folding [1 points]\n",
        "\n",
        "Lemmatize reviews and provide the following statistics:\n",
        "*   Average number of unique lemmas (in original case)\n",
        "*   Average number of unique lemmas (in lowercase)\n",
        "\n",
        "***Question.*** Why is there a difference between the numbers of unique lemmas in original and lowercase texts? Provide examples of lemmas that contribute to the difference.\n",
        "\n",
        "Note: Lemmatization could take some time (8-16 minutes). You can take 5000 samples from the train set and do this task on a smaller portion of the dataset."
      ]
    },
    {
      "cell_type": "code",
      "execution_count": 5,
      "metadata": {
        "colab": {
          "base_uri": "https://localhost:8080/"
        },
        "id": "U_HIp6OHSihm",
        "outputId": "b0b188fc-e105-4aa6-bd15-890009a01295"
      },
      "outputs": [
        {
          "name": "stdout",
          "output_type": "stream",
          "text": [
            "Example difference lemmeas: \n",
            "{'NC-17', 'Before', 'This', 'As', 'The', 'Sevigny', 'Granted', 'And', 'Am', 'Bunny', 'Gallo', 'It', 'Yellow', 'Chloe', 'R-rated', 'I', 'Vincent', 'Brown', 'Nowhere', 'In', 'Curious', 'American'}\n",
            "{'IMPORTANT', 'One', 'This', 'If', 'The'}\n",
            "{'Some', 'And', 'Marxism', 'I', 'There', 'The', 'Even'}\n",
            "{'Before', 'A', 'Masters', 'Ricky.', 'Danny', 'The', 'Although', 'Overall', 'Ricky', 'Pino', 'Lucille', 'PBS', 'E', 'Ball', 'It', 'Rachel', 'I', 'Desi', 'If', 'He', 'To', 'Biography', 'Finding', 'York', 'She', 'Lucy', 'Arnaz', 'Ethel', 'At', 'Love', 'Laughter', 'Fred', 'American', 'When'}\n",
            "{'Never', 'Fosse', 'Last', 'This', 'The', 'Star', 'Bogdanovich', 'Show', 'Dorothy', 'Bob', 'Stratten', 'I', 'Very', 'Orson', 'Welles', 'Hansen', 'Hepburn', 'Ms.', 'Playboy', 'Paper', 'Patty', 'Audrey', 'Moon', 'Picture', 'SISTER'}\n",
            "{'We', 'And', '2D', '3D', '3-D', 'I', 'Watch', 'Dir-Brad', 'Sykes', 'Wow', 'The', 'Well', 'That', 'Mindless'}\n",
            "----------------------------------------------\n",
            "avg uniqe lemmas: 150.7872425514897\n",
            "avg uniqe lemmas lower: 145.25594881023795\n"
          ]
        }
      ],
      "source": [
        "from nltk.stem import WordNetLemmatizer\n",
        "wnl = WordNetLemmatizer()\n",
        "\n",
        "lemm_dict_sizes, lemm_dict_sizes_lower = [], []\n",
        "print('Example difference lemmeas: ')\n",
        "for i, review in enumerate(dataset['train']):\n",
        "  if i > 5000:\n",
        "    break\n",
        "  review = review['text']\n",
        "\n",
        "  tokens = word_tokenize(review)\n",
        "  lemm_text = [wnl.lemmatize(word) for word in tokens]\n",
        "\n",
        "  tokens_lower = word_tokenize(review.lower())\n",
        "  lemm_text_lower = [wnl.lemmatize(word) for word in tokens_lower]\n",
        "\n",
        "\n",
        "  if i in [1, 2, 5, 7, 12, 21]:\n",
        "    print(set(lemm_text).difference(set(lemm_text_lower)))\n",
        "\n",
        "  lemm_dict_sizes.append(len(set(lemm_text)))\n",
        "  lemm_dict_sizes_lower.append(len(set(lemm_text_lower)))\n",
        "\n",
        "print('----------------------------------------------')\n",
        "print(f'avg uniqe lemmas: {np.mean(lemm_dict_sizes)}')\n",
        "print(f'avg uniqe lemmas lower: {np.mean(lemm_dict_sizes_lower)}')"
      ]
    },
    {
      "cell_type": "markdown",
      "metadata": {
        "id": "KgKf0Rikc-m-"
      },
      "source": [
        "The difference in the number of unique lemmas between original and lowercase texts arises because the original text preserves case distinctions, leading to recognition of different forms of a word (e.g., \"Apple\" and \"apple\" as distinct). Lowercasing the text eliminates these distinctions, potentially reducing the count of unique lemmas as different forms are now treated as the same word."
      ]
    },
    {
      "cell_type": "markdown",
      "metadata": {
        "id": "7iInlissk-Ww"
      },
      "source": [
        "### Task 2. Text classification pipeline [3 points]\n",
        "\n",
        "In task 2, you will focus on the sentiment analysis task. Sentiment analysis is concerned with analyzing the expressed opinion in a sentence or a text document. You will set up a basic text classification pipeline for binary sentiment classification (0 for negative sentiment and 1 for positive sentiment). You can start by loading the IMDB dataset (again)."
      ]
    },
    {
      "cell_type": "code",
      "execution_count": 6,
      "metadata": {
        "colab": {
          "base_uri": "https://localhost:8080/"
        },
        "id": "q5uoXFYgSkNV",
        "outputId": "6b3e2c7e-685d-4b89-bb7d-f9c56b4c107d"
      },
      "outputs": [
        {
          "name": "stdout",
          "output_type": "stream",
          "text": [
            "DatasetDict({\n",
            "    train: Dataset({\n",
            "        features: ['text', 'label'],\n",
            "        num_rows: 25000\n",
            "    })\n",
            "    test: Dataset({\n",
            "        features: ['text', 'label'],\n",
            "        num_rows: 25000\n",
            "    })\n",
            "    unsupervised: Dataset({\n",
            "        features: ['text', 'label'],\n",
            "        num_rows: 50000\n",
            "    })\n",
            "})\n"
          ]
        }
      ],
      "source": [
        "dataset = load_dataset(\"imdb\")\n",
        "print(dataset)"
      ]
    },
    {
      "cell_type": "markdown",
      "metadata": {
        "id": "-lQ0pqqZnNac"
      },
      "source": [
        "#### Task 2.1. Custom tokenization [0.5]\n",
        "Create a custom tokenization function. Your tokenization function should minimally:\n",
        "- tokenize each text\n",
        "- lowercase\n",
        "- remove punctuation\n",
        "\n",
        "Optionally:\n",
        "- lemmatize or stem each text"
      ]
    },
    {
      "cell_type": "code",
      "execution_count": 121,
      "metadata": {
        "id": "yGMyEDbJFkfG"
      },
      "outputs": [],
      "source": [
        "wnl = WordNetLemmatizer()\n",
        "\n",
        "def tokenize_review(review):\n",
        "    tokens = word_tokenize(review)\n",
        "    tokens = [token.lower() for token in tokens]\n",
        "    tokens_punct = [word for word in tokens if word.isalpha()]\n",
        "    lemm_tokemns = [wnl.lemmatize(word) for word in tokens_punct]\n",
        "\n",
        "    return lemm_tokemns\n"
      ]
    },
    {
      "cell_type": "markdown",
      "metadata": {
        "id": "XAHomBfNnUmQ"
      },
      "source": [
        "#### 2.2. Vectorization [0.5 points]\n",
        "Initialize the `TfidfVectorizer.` Pass custom tokenizer to vectorizer. Fit and transform the vectorizer on the `text` column of the train split and transform the `text` column of the test split into vector representations: `train_x` and `test_x`. Accordingly, assign the `label` column in each split to `train_y` and `test_y`."
      ]
    },
    {
      "cell_type": "code",
      "execution_count": 9,
      "metadata": {
        "colab": {
          "base_uri": "https://localhost:8080/"
        },
        "id": "a7fITEXaSmyZ",
        "outputId": "99a45ffe-eb3b-4907-b671-db565fcd535c"
      },
      "outputs": [
        {
          "name": "stderr",
          "output_type": "stream",
          "text": [
            "c:\\Users\\Gordei\\miniconda3\\envs\\nlp\\Lib\\site-packages\\sklearn\\feature_extraction\\text.py:525: UserWarning: The parameter 'token_pattern' will not be used since 'tokenizer' is not None'\n",
            "  warnings.warn(\n"
          ]
        }
      ],
      "source": [
        "from sklearn.feature_extraction.text import TfidfVectorizer\n",
        "vectorizer = TfidfVectorizer(tokenizer=tokenize_review)\n",
        "train_x = vectorizer.fit_transform(dataset['train']['text'])\n",
        "train_y = dataset['train']['label']\n",
        "test_x = vectorizer.transform(dataset['test']['text'])\n",
        "test_y = dataset['test']['label']"
      ]
    },
    {
      "cell_type": "markdown",
      "metadata": {
        "id": "wBa9fRweoJof"
      },
      "source": [
        "#### 2.3. Training the model [0.5 points]\n",
        "\n",
        "Initialize and train `LogisticRegression` with different hyperparameters than we used in the class.  Refer to the [sklearn documentation](https://scikit-learn.org/stable/modules/generated/sklearn.linear_model.LogisticRegression.html?highlight=logistic%20regression#sklearn.linear_model.LogisticRegression) for more details on different hyperparameters.\n"
      ]
    },
    {
      "cell_type": "code",
      "execution_count": 10,
      "metadata": {
        "id": "_eQXccTqSn7f"
      },
      "outputs": [],
      "source": [
        "from sklearn.linear_model import LogisticRegression\n",
        "clf = LogisticRegression().fit(train_x, train_y)"
      ]
    },
    {
      "cell_type": "markdown",
      "metadata": {
        "id": "t6Fh-Xx9ouy_"
      },
      "source": [
        "#### 2.4. Evaluating the model [0.5 points]\n",
        "\n",
        "Evaluate the model on the test set. Report precision, recall, and f1-score. You can use sklearn's [`classification report`](https://scikit-learn.org/stable/modules/generated/sklearn.metrics.classification_report.html?highlight=classification%20report#sklearn.metrics.classification_report) to get the scores with the precision of 4 digits, i.e. your score should have 4 digits after the decimal point (e.g. 0.8896).\n",
        "\n",
        "\n"
      ]
    },
    {
      "cell_type": "code",
      "execution_count": 11,
      "metadata": {
        "colab": {
          "base_uri": "https://localhost:8080/"
        },
        "id": "JxsVfKcyS02K",
        "outputId": "466c3e4f-ef7c-4135-e1aa-351a6061a173"
      },
      "outputs": [
        {
          "name": "stdout",
          "output_type": "stream",
          "text": [
            "              precision    recall  f1-score   support\n",
            "\n",
            "           0     0.8808    0.8803    0.8806     12500\n",
            "           1     0.8804    0.8809    0.8806     12500\n",
            "\n",
            "    accuracy                         0.8806     25000\n",
            "   macro avg     0.8806    0.8806    0.8806     25000\n",
            "weighted avg     0.8806    0.8806    0.8806     25000\n",
            "\n"
          ]
        }
      ],
      "source": [
        "from sklearn.metrics import classification_report\n",
        "\n",
        "y_pred = clf.predict(test_x)\n",
        "print(classification_report(test_y, y_pred, digits=4))"
      ]
    },
    {
      "cell_type": "markdown",
      "metadata": {
        "id": "3QH11fBVpkou"
      },
      "source": [
        "#### 2.5 Inference function [0.5 point]\n",
        "Write a code that would allow you to input any text into the model and get the prediction. To do that, use the same vectorizer as for the training data to transform the input text for the model.\n",
        "\n",
        "Predict a label for the example text below."
      ]
    },
    {
      "cell_type": "code",
      "execution_count": 13,
      "metadata": {
        "id": "cAwgEfi1S2IS"
      },
      "outputs": [],
      "source": [
        "example_text = \"\"\"\"Don't Look Up\" tells a chilling story of lies, oppression, explosion, and deceit in modern day world, but in a light hearted way. The story itself is disturbing, but the delivery is not too depressing. The numerous stars add to the entertaining factor too. I enjoyed watching it.\"\"\""
      ]
    },
    {
      "cell_type": "code",
      "execution_count": 14,
      "metadata": {
        "colab": {
          "base_uri": "https://localhost:8080/"
        },
        "id": "UQHafqnDWbdc",
        "outputId": "4f6b0ddc-ff67-4da0-cbcb-28419312393a"
      },
      "outputs": [
        {
          "data": {
            "text/plain": [
              "0"
            ]
          },
          "execution_count": 14,
          "metadata": {},
          "output_type": "execute_result"
        }
      ],
      "source": [
        "def predict(text, model=clf, vectorizer=vectorizer):\n",
        "  tokenized = tokenize_review(text)\n",
        "  vectorized = vectorizer.transform(tokenized)\n",
        "  pred = model.predict(vectorized)[0]\n",
        "  return pred\n",
        "\n",
        "predict(example_text)"
      ]
    },
    {
      "cell_type": "markdown",
      "metadata": {
        "id": "Mu6QYDS5qM0O"
      },
      "source": [
        "#### 2.6 Qualitative evaluation [0.5 point]\n",
        "\n",
        "Come up with four short movie reviews that would be predicted as true positive, true negative, false positive, and false negative by the model.\n",
        "\n",
        "Usually, just one or two short sentences are enough. Also, your writing skills are not assessed here, so you can write anything as long as it works! If you cannot come up with anything that meets the criteria, you can write down below why you think it didn't work and what your strategy was."
      ]
    },
    {
      "cell_type": "code",
      "execution_count": 124,
      "metadata": {
        "colab": {
          "base_uri": "https://localhost:8080/"
        },
        "id": "ncTrwRbbS4sb",
        "outputId": "25b50409-885c-4c2d-8089-ee2e4a105a32"
      },
      "outputs": [
        {
          "name": "stdout",
          "output_type": "stream",
          "text": [
            "TN: 0\n",
            "TP: 1\n",
            "FN: 0\n",
            "FP: 1\n"
          ]
        }
      ],
      "source": [
        "tn = 'This movie sucks and is bad, horrible'\n",
        "tp = 'The movie is amazing, great and wonderful!'\n",
        "fn = 'There are flavourful dark undertones in every scene, making it a horrifically exciting watch'\n",
        "fp = 'The movie is great for the twisted people that get off on indiscriminate violence.'\n",
        "\n",
        "print(f'TN: {predict(tn)}')\n",
        "print(f'TP: {predict(tp)}')\n",
        "print(f'FN: {predict(fn)}')\n",
        "print(f'FP: {predict(fp)}')\n"
      ]
    },
    {
      "cell_type": "markdown",
      "metadata": {
        "id": "iI7PodhBEvqW"
      },
      "source": [
        "## Part B: Word embeddings (5 points)"
      ]
    },
    {
      "cell_type": "code",
      "execution_count": 125,
      "metadata": {
        "id": "JnFvG72JF3h2"
      },
      "outputs": [],
      "source": [
        "#!pip install --quiet --upgrade datasets evaluate gensim nltk"
      ]
    },
    {
      "cell_type": "markdown",
      "metadata": {
        "id": "nVTvRQS1FBRZ"
      },
      "source": [
        "### Task 1 Word embeddings analysis [1.5 points]"
      ]
    },
    {
      "cell_type": "markdown",
      "metadata": {
        "id": "11j6edwNFHIo"
      },
      "source": [
        "#### Task 1.1 Load the model [0.5 points]\n",
        "Download the Word2Vec model trained on English Wikipedia Dump of February 2017 via the [URL](http://vectors.nlpl.eu/repository/20/6.zip).\n",
        "\n",
        "Load the model either from `bin` or `txt` file with `gensim` or your custom code."
      ]
    },
    {
      "cell_type": "code",
      "execution_count": 126,
      "metadata": {
        "colab": {
          "base_uri": "https://localhost:8080/",
          "height": 339
        },
        "id": "FXza3LTaFUPN",
        "outputId": "ee18627e-393b-4d6c-fdb4-9005407c6e88"
      },
      "outputs": [],
      "source": [
        "from gensim.models import KeyedVectors\n",
        "model_path = 'model.bin'\n",
        "model = KeyedVectors.load_word2vec_format(model_path, binary=True)"
      ]
    },
    {
      "cell_type": "markdown",
      "metadata": {
        "id": "Z96nC7S1FSfR"
      },
      "source": [
        "#### Task 1.2 Words with multiple meanings [1 point]\n",
        "\n",
        "The same word can represent multiple meanings due to homonymy or polysemy. Consider, for example, the word [\"bow\"](https://en.wiktionary.org/wiki/bow#Noun) which can mean several unrelated things including a type of weapon and a type of knot. Word2Vec and similar word embedding models are generally unable to distinguish between different meanings of the same word. Let us examine how this affects the words' neighbors.\n",
        "\n",
        "For this task, come up with at least 3 words with multiple meanings in English. For each word output its 10 nearest neighbors. For each neighbor find the related meaning on the word's Wiktionary page (if there is such a meaning on [Wiktionary](https://en.wiktionary.org/wiki/Wiktionary:Main_Page)).\n",
        "\n",
        "Analyze the related meanings. What do you think is possible to say about the corpus the model was trained on based on these meanings?"
      ]
    },
    {
      "cell_type": "code",
      "execution_count": 29,
      "metadata": {
        "id": "_IDzIYhAFRKY"
      },
      "outputs": [
        {
          "name": "stdout",
          "output_type": "stream",
          "text": [
            "\"well\" top 10 neibhours are: \n",
            "including, besides, notably, addition, also, especially, particularly, Besides, etc., importantly\n",
            "\n",
            "\n",
            "\"bank\" top 10 neibhours are: \n",
            "banks, Bank, banking, Citibank, non-bank, Eurobank, depositor, depositors, inter-bank, state-chartered\n",
            "\n",
            "\n",
            "\"bat\" top 10 neibhours are: \n",
            "bats, Rhinolophus, sheath-tailed, mouse-eared, Hipposideros, Phyllostomidae, Molossidae, Rhinolophidae, tube-nosed, leaf-nosed\n",
            "\n",
            "\n"
          ]
        }
      ],
      "source": [
        "for word in ['well', 'bank', 'bat']:\n",
        "    neighbors = model.most_similar(word, topn=10)\n",
        "    print(f'\"{word}\" top 10 neibhours are: ')\n",
        "    print(', '.join([tup[0] for tup in neighbors]))\n",
        "    print('\\n')"
      ]
    },
    {
      "cell_type": "markdown",
      "metadata": {},
      "source": [
        "- 'well' - the word closest to it's role as an exlamation, not as an adjective or noun. Hard to say anything about the corpus here.\n",
        "- 'bank' - Close to it's meaning in finance - corpus had more financial content.\n",
        "- 'bat' - Close to animal meaning and latin specie names, likely more scientific content in the corpus."
      ]
    },
    {
      "cell_type": "markdown",
      "metadata": {
        "id": "sY_jQTNxFbXM"
      },
      "source": [
        "### Task 2 Reverse dictionary with word embeddings [3.5 points]\n",
        "\n",
        "The goal of this task is to build a very simple reverse dictionary based on word embeddings. A reverse dictionary is a resource that helps you find words based on their definitions or descriptions, rather than the traditional dictionary format which helps you find the definition of a word. In a reverse dictionary, you start with an idea, concept, or description of what you're trying to express and then look up the term or phrase that matches that description."
      ]
    },
    {
      "cell_type": "markdown",
      "metadata": {
        "id": "2ln6c9RBFkYR"
      },
      "source": [
        "#### Task 2.1 Load the data [0.5 points]\n",
        "\n",
        "Use the Google Drive [link](https://drive.google.com/file/d/1emoyY4Nfhu8O6MSvnwAtSry3JdehyBwe/view?usp=sharing) to download the dataset first introduced in [Learning to Understand Phrases by Embedding the Dictionary](https://aclanthology.org/Q16-1002/). Not everyting in this JSON is relevant to this task. We are only interested in \"word\" and \"definitions\" fields. The \"word\" field contains the target words we want to predict, while the \"definitions\" field, despite the name, contains a single definition per word. We want to use the definitions to find the target words."
      ]
    },
    {
      "cell_type": "code",
      "execution_count": 85,
      "metadata": {
        "id": "kDA4KJBIFkO4"
      },
      "outputs": [
        {
          "name": "stdout",
          "output_type": "stream",
          "text": [
            "[{'word': 'forget', 'lexnames': ['verb.cognition'], 'root_affix': [], 'sememes': ['forget'], 'definitions': 'when you knew a fact or to do something in the past but then without trying you lost this knowledge'}, {'word': 'office', 'lexnames': ['noun.group', 'noun.act', 'noun.artifact', 'noun.state'], 'root_affix': [], 'sememes': ['part', 'room', 'engage', 'handle', 'organization', 'duty', 'alive', 'Occupation', 'earn', 'affairs'], 'definitions': 'a room in a house or building where people study or work'}, {'word': 'cheap', 'lexnames': ['adj.all'], 'root_affix': [], 'sememes': ['cheap', 'commerce'], 'definitions': 'something that does not cost a lot of money'}, {'word': 'obtain', 'lexnames': ['verb.change', 'verb.possession', 'verb.stative'], 'root_affix': [], 'sememes': ['obtain'], 'definitions': 'to get or achieve something that you want'}, {'word': 'foot', 'lexnames': ['noun.person', 'noun.act', 'noun.artifact', 'noun.quantity', 'verb.motion', 'noun.group', 'noun.communication', 'noun.body', 'noun.location', 'verb.possession', 'noun.animal', 'verb.cognition'], 'root_affix': ['foot'], 'sememes': ['AnimalHuman', 'part', 'inanimate', 'physiology', 'Unit', 'Length', 'Width', 'foot', 'base', 'Distance', 'walk'], 'definitions': 'the bottom part of the leg on which people walk'}, {'word': 'disc', 'lexnames': ['noun.artifact', 'noun.shape'], 'root_affix': [], 'sememes': ['round', 'disseminate', 'record', 'shape', 'tool', 'music'], 'definitions': 'something that is a circle but also flat'}, {'word': 'identify', 'lexnames': ['verb.cognition', 'verb.communication'], 'root_affix': [], 'sememes': ['distinguish'], 'definitions': 'to decide who someone is or what something is after thinking about it'}, {'word': 'thanks', 'lexnames': ['noun.act', 'noun.communication'], 'root_affix': [], 'sememes': ['thank'], 'definitions': 'the gesture or gratitude you give after someone does something positive for you'}, {'word': 'facts', 'lexnames': [], 'root_affix': [], 'sememes': [], 'definitions': 'pieces of information that are true'}, {'word': 'follow', 'lexnames': ['verb.perception', 'verb.motion', 'verb.social', 'verb.creation', 'verb.stative', 'verb.possession', 'verb.cognition', 'verb.change'], 'root_affix': [], 'sememes': ['imitate', 'specific', 'engage', 'GoOn', 'SelfMove', 'follow', 'obey'], 'definitions': 'when somebody takes the same route as somebody further ahead in order to end up in the same place'}, {'word': 'toast', 'lexnames': ['noun.person', 'noun.food', 'verb.change', 'verb.consumption'], 'root_affix': [], 'sememes': ['food', 'drink', 'drinks', 'congratulate', 'cook'], 'definitions': 'cooked bread that is often eaten with butter for breakfast'}, {'word': 'leader', 'lexnames': ['noun.person', 'noun.artifact'], 'root_affix': ['leader'], 'sememes': ['official', 'human'], 'definitions': 'somebody who controls an organisation or group of people'}, {'word': 'knowledge', 'lexnames': ['noun.Tops'], 'root_affix': [], 'sememes': ['knowledge', 'experience'], 'definitions': 'all of the information or facts that somebody might have in their head'}, {'word': 'explain', 'lexnames': ['verb.communication'], 'root_affix': [], 'sememes': ['explain'], 'definitions': 'to say how a complicated situation or problem works so that other people then understand it'}, {'word': 'complain', 'lexnames': ['verb.communication'], 'root_affix': ['complain'], 'sememes': ['ExpressDissatisfaction'], 'definitions': 'to express disappointment or lack of satisfaction in speech or writing'}, {'word': 'tickle', 'lexnames': ['noun.act', 'verb.perception', 'verb.contact', 'noun.cognition', 'verb.emotion'], 'root_affix': [], 'sememes': [], 'definitions': 'to touch someone in sensitive parts of their body to make them laugh'}, {'word': 'choose', 'lexnames': ['verb.cognition'], 'root_affix': [], 'sememes': ['choose'], 'definitions': 'to make a decision between more than one options or possibilities'}, {'word': 'trousers', 'lexnames': [], 'root_affix': ['s'], 'sememes': ['part', 'human', 'leg', 'PutOn', 'clothing'], 'definitions': 'an article of clothing that men often wear on their legs'}, {'word': 'recycle', 'lexnames': ['verb.consumption', 'verb.motion'], 'root_affix': [], 'sememes': ['collect', 'use', 'again'], 'definitions': 'to take the material from something and making it into something new rather than throwing it away'}, {'word': 'hat', 'lexnames': ['noun.act', 'verb.possession', 'noun.artifact', 'verb.body'], 'root_affix': ['hat'], 'sememes': ['part', 'human', 'head', 'PutOn', 'clothing'], 'definitions': 'clothing that you wear on your head'}, {'word': 'achieve', 'lexnames': ['verb.social'], 'root_affix': [], 'sememes': ['fulfil'], 'definitions': 'when you try hard to do something difficult and you manage to do it'}, {'word': 'coffee', 'lexnames': ['noun.food', 'noun.plant', 'noun.attribute'], 'root_affix': [], 'sememes': ['physical', 'material', 'drinks', 'Color'], 'definitions': 'a hot dark brown drink like tea but made from ground beans'}, {'word': 'government', 'lexnames': ['noun.group', 'noun.act', 'noun.cognition'], 'root_affix': [], 'sememes': ['institution', 'manage', 'official', 'politics'], 'definitions': 'the group of people who together make the decisions and plans to run the country'}, {'word': 'food', 'lexnames': ['noun.food', 'noun.cognition', 'noun.Tops'], 'root_affix': [], 'sememes': ['edible', 'material', 'mental'], 'definitions': 'the stuff that humans and animals eat in order to give them the energy they need to live'}, {'word': 'prefer', 'lexnames': ['verb.cognition', 'verb.social', 'verb.emotion'], 'root_affix': [], 'sememes': ['willing'], 'definitions': 'to like one thing more than another thing'}, {'word': 'blanket', 'lexnames': ['noun.artifact', 'adj.all', 'verb.contact', 'verb.stative', 'noun.object'], 'root_affix': [], 'sememes': ['sleep', 'tool', 'cover'], 'definitions': 'a flat piece of material you put on your bed or the ground for warmth or comfort'}, {'word': 'decide', 'lexnames': ['verb.cognition'], 'root_affix': [], 'sememes': ['judge', 'decide'], 'definitions': 'to choose between more than one options or possibilities'}, {'word': 'desk', 'lexnames': ['noun.artifact'], 'root_affix': [], 'sememes': ['put', 'furniture'], 'definitions': 'a flat table for working at often found in an office'}, {'word': 'flea', 'lexnames': ['noun.animal'], 'root_affix': [], 'sememes': ['InsectWorm'], 'definitions': 'a small insect that lives in cat fur and bites your legs'}, {'word': 'tallest', 'lexnames': [], 'root_affix': [], 'sememes': [], 'definitions': 'the thing that is higher or taller than everything else'}, {'word': 'realize', 'lexnames': ['verb.cognition', 'verb.possession', 'verb.creation'], 'root_affix': [], 'sememes': ['understand', 'fulfil'], 'definitions': 'when at first you not know something for sure and then suddenly you do know it'}, {'word': 'meat', 'lexnames': ['noun.food', 'noun.plant', 'noun.cognition'], 'root_affix': ['meat'], 'sememes': ['food', 'part', 'fruit', 'flesh', 'embryo', 'livestock'], 'definitions': 'the flesh of animals that humans like to cook and eat'}, {'word': 'bring', 'lexnames': ['verb.communication', 'verb.motion', 'verb.creation', 'verb.contact', 'verb.possession', 'verb.emotion', 'verb.change'], 'root_affix': [], 'sememes': ['bring'], 'definitions': 'when somebody carries something towards you and maybe gives it to you'}, {'word': 'opera', 'lexnames': ['noun.communication', 'noun.artifact'], 'root_affix': [], 'sememes': ['shows'], 'definitions': 'a type of classical musical performance in which performers sing and act'}, {'word': 'clown', 'lexnames': ['noun.person', 'verb.body'], 'root_affix': [], 'sememes': ['entertainment', 'human', 'interesting', 'Occupation', 'perform'], 'definitions': 'a person who acts or dresses stupidly in order to make people laugh'}, {'word': 'bird', 'lexnames': ['noun.person', 'noun.artifact', 'noun.food', 'verb.competition', 'noun.communication', 'noun.animal'], 'root_affix': ['bird'], 'sememes': ['sport', 'SportTool', 'bird'], 'definitions': 'an animal with wings that flies and builds nests'}, {'word': 'race', 'lexnames': ['noun.artifact', 'verb.competition', 'verb.motion', 'verb.social', 'noun.group', 'noun.phenomenon', 'noun.event'], 'root_affix': ['race'], 'sememes': ['fact', 'sport', 'compete', 'tribe', 'Kind'], 'definitions': 'a competition where people try to reach a place in the quickest possible time'}, {'word': 'contain', 'lexnames': ['verb.competition', 'verb.social', 'verb.stative'], 'root_affix': [], 'sememes': ['contain', 'obstruct', 'military', 'restrain'], 'definitions': 'when something has other things inside of it'}, {'word': 'fishing', 'lexnames': ['noun.act'], 'root_affix': [], 'sememes': ['catch', 'FuncWord', 'agricultural', 'waters', 'fish', 'affairs'], 'definitions': 'a sport or pastime that involves hunting fish from the sea or rivers'}, {'word': 'enjoy', 'lexnames': ['verb.perception', 'verb.consumption', 'verb.emotion'], 'root_affix': [], 'sememes': ['enjoy', 'own'], 'definitions': 'to feel happiness or pleasure when you do an activity'}, {'word': 'chew', 'lexnames': ['noun.food', 'noun.act', 'verb.consumption'], 'root_affix': [], 'sememes': [], 'definitions': 'to move your mouth or jaw up and down in break up or soften food'}, {'word': 'art', 'lexnames': ['noun.act', 'noun.communication', 'noun.cognition', 'noun.artifact'], 'root_affix': ['art'], 'sememes': ['knowledge', 'method', 'entertainment', 'human', 'Ability', 'inanimate', 'affairs'], 'definitions': 'the word for painting music theatre sculpture and other creative activities'}, {'word': 'regret', 'lexnames': ['verb.communication', 'noun.feeling', 'verb.emotion'], 'root_affix': ['regret'], 'sememes': ['regret', 'repent', 'sorry', 'emotion'], 'definitions': 'the feeling of sadness after making the wrong choice'}, {'word': 'tea', 'lexnames': ['noun.group', 'noun.food', 'noun.plant'], 'root_affix': ['tea'], 'sememes': ['eat', 'hair', 'fact', 'part', 'material', 'drinks', 'tree', 'reproduce'], 'definitions': 'popular drink made by putting leaves in hot water'}, {'word': 'reduce', 'lexnames': ['verb.social', 'verb.body', 'verb.contact', 'verb.possession', 'verb.emotion', 'verb.change'], 'root_affix': [], 'sememes': ['wounded', 'resume', 'subtract', 'BecomeLess', 'part', 'shrink', 'doctor', 'economy', 'defeat', 'Price', 'medical'], 'definitions': 'to make the amount of something lower'}, {'word': 'discover', 'lexnames': ['verb.perception', 'verb.creation', 'verb.possession', 'verb.cognition', 'verb.communication'], 'root_affix': ['discover'], 'sememes': ['Vachieve', 'perception', 'research', 'LookFor', 'investigate', 'reveal'], 'definitions': 'to find out some information or to locate a place that was not generally known beforehand'}, {'word': 'library', 'lexnames': ['noun.group', 'noun.artifact'], 'root_affix': [], 'sememes': ['PutInOrder', 'gather', 'borrow', 'read', 'InstitutePlace', 'store', 'readings'], 'definitions': 'a place where many books are stored so that people can easily access them'}, {'word': 'expect', 'lexnames': ['verb.cognition', 'verb.communication', 'verb.body'], 'root_affix': ['expect'], 'sememes': ['predict', 'expect'], 'definitions': 'to think into the future and feel that is is likely that a particular event will happen'}, {'word': 'year', 'lexnames': ['noun.group', 'noun.time'], 'root_affix': [], 'sememes': ['year', 'Age', 'human', 'InstitutePlace', 'teach', 'Unit', 'education', 'study', 'Rank', 'time', 'animate'], 'definitions': 'a period of months corresponding to the earth orbiting the sun'}, {'word': 'sport', 'lexnames': ['noun.person', 'noun.act', 'verb.motion', 'noun.communication', 'verb.stative'], 'root_affix': ['sport'], 'sememes': ['sport', 'exercise'], 'definitions': 'an organised competitive activity or game where physical skill is needed'}, {'word': 'blue', 'lexnames': ['noun.artifact', 'noun.attribute', 'adj.all', 'noun.group', 'noun.substance', 'noun.object', 'noun.animal', 'verb.change'], 'root_affix': ['blue'], 'sememes': ['lascivious', 'sad', 'blue'], 'definitions': 'the colour of the sea or the sky'}, {'word': 'poke', 'lexnames': ['noun.person', 'noun.act', 'noun.artifact', 'verb.perception', 'noun.plant', 'verb.contact'], 'root_affix': [], 'sememes': ['PlayWith', 'stab'], 'definitions': 'to touch someone or something with an extended finger or long thin object'}, {'word': 'strawberry', 'lexnames': ['noun.food', 'noun.plant', 'noun.attribute'], 'root_affix': [], 'sememes': ['fruit'], 'definitions': 'a sweet red fruit often eaten with cream'}, {'word': 'avoid', 'lexnames': ['verb.consumption', 'verb.communication', 'verb.social'], 'root_affix': ['avoid'], 'sememes': ['restrain', 'evade', 'escape'], 'definitions': 'to make sure that you do not come close to somebody or something'}, {'word': 'washed', 'lexnames': ['adj.all'], 'root_affix': [], 'sememes': [], 'definitions': 'something that has been cleaned with water recently'}, {'word': 'ice', 'lexnames': ['noun.artifact', 'noun.food', 'noun.possession', 'verb.contact', 'noun.object', 'noun.substance', 'verb.change'], 'root_affix': ['ice'], 'sememes': ['vehicle', 'urge', 'part'], 'definitions': 'frozen water that you can put in your drink to make it colder'}, {'word': 'mud', 'lexnames': ['noun.substance', 'verb.contact', 'noun.communication'], 'root_affix': ['mud'], 'sememes': ['dirty', 'stone', 'waterlogging', 'soft'], 'definitions': 'dirty wet brown earth found on the ground after it has rained'}, {'word': 'continue', 'lexnames': ['verb.social', 'verb.communication', 'verb.motion', 'verb.stative', 'verb.change'], 'root_affix': [], 'sememes': ['GoOn'], 'definitions': 'to keep doing something when stopping was a possibility'}, {'word': 'internet', 'lexnames': ['noun.artifact'], 'root_affix': [], 'sememes': ['information', 'computer', 'internet'], 'definitions': 'the network connecting computers in the world and allowing information to be shared'}, {'word': 'reading', 'lexnames': ['noun.act', 'noun.communication', 'noun.cognition', 'noun.location'], 'root_affix': ['reading'], 'sememes': ['place', 'ProperName', 'city'], 'definitions': 'the activity of looking at words or text and understanding what they mean'}, {'word': 'method', 'lexnames': ['noun.act', 'noun.cognition'], 'root_affix': [], 'sememes': ['method'], 'definitions': 'a particular way of doing something'}, {'word': 'ability', 'lexnames': ['noun.cognition', 'noun.attribute'], 'root_affix': ['ability'], 'sememes': ['human', 'Ability', 'animate'], 'definitions': 'the skills that somebody has'}, {'word': 'nature', 'lexnames': ['noun.person', 'noun.cognition', 'noun.attribute', 'noun.object'], 'root_affix': [], 'sememes': ['humanized'], 'definitions': 'all of the living things in the world'}, {'word': 'night', 'lexnames': ['noun.person', 'noun.time', 'noun.state'], 'root_affix': ['night'], 'sememes': ['specific', 'time', 'day', 'night', 'week'], 'definitions': 'the time at the end of the day when the sun goes down and people sleep'}, {'word': 'communicate', 'lexnames': ['verb.contact', 'verb.communication', 'verb.possession'], 'root_affix': [], 'sememes': ['disseminate', 'communicate', 'again', 'tell'], 'definitions': 'to share ideas or knowledge with other people using language or signs'}, {'word': 'greedy', 'lexnames': ['adj.all'], 'root_affix': [], 'sememes': ['drink', 'eat', 'acquisitive'], 'definitions': 'a way to describe somebody who wants lots and lots of food or money'}, {'word': 'paper', 'lexnames': ['noun.artifact', 'noun.group', 'verb.contact', 'noun.communication', 'noun.substance'], 'root_affix': ['paper'], 'sememes': ['publications', 'write', 'decorate', 'material', 'text', 'news', 'research', 'publish', 'wrap', 'draw'], 'definitions': 'a material that is normally white made from trees and useful for writing on'}, {'word': 'snooker', 'lexnames': ['noun.act', 'verb.competition', 'verb.social'], 'root_affix': [], 'sememes': ['exercise', 'sport', 'engage', 'fact'], 'definitions': 'a sport played on a green table with balls of different colours'}, {'word': 'baseball', 'lexnames': ['noun.act', 'noun.artifact'], 'root_affix': [], 'sememes': ['round', 'fact', 'sport', 'SportTool', 'baseball', 'exercise'], 'definitions': 'a sport played in the usa where you have to hit a ball with a bat'}, {'word': 'sing', 'lexnames': ['verb.communication', 'verb.creation'], 'root_affix': ['s', 'ing'], 'sememes': ['animal', 'recreation', 'recite', 'sing', 'cry'], 'definitions': 'to produce a tune or music with your voice'}, {'word': 'safer', 'lexnames': [], 'root_affix': [], 'sememes': [], 'definitions': 'more safe than something else'}, {'word': 'improve', 'lexnames': ['verb.change'], 'root_affix': [], 'sememes': ['disease', 'BeWell', 'BeRecovered', 'improve'], 'definitions': 'to make something better'}, {'word': 'protect', 'lexnames': ['verb.competition'], 'root_affix': [], 'sememes': ['protect', 'defend'], 'definitions': 'to take care of something and make sure that it is kept away from danger'}, {'word': 'receive', 'lexnames': ['verb.perception', 'verb.communication', 'verb.social', 'verb.contact', 'verb.consumption', 'verb.possession', 'verb.stative', 'verb.cognition', 'verb.change'], 'root_affix': [], 'sememes': ['undergo', 'bear', 'receive', 'meet', 'entertain'], 'definitions': 'when somebody gives something to you and afterwards you have it'}, {'word': 'explore', 'lexnames': ['verb.cognition'], 'root_affix': [], 'sememes': ['investigate'], 'definitions': 'to look around a new place going to all of the different parts so that you know it better'}, {'word': 'ensure', 'lexnames': ['verb.cognition', 'verb.communication'], 'root_affix': [], 'sememes': ['CauseToDo', 'announce', 'guarantee'], 'definitions': 'to make it certain that a particular event will happen'}, {'word': 'smoke', 'lexnames': ['noun.act', 'noun.artifact', 'noun.process', 'noun.attribute', 'verb.weather', 'noun.phenomenon', 'noun.communication', 'verb.consumption'], 'root_affix': [], 'sememes': ['waste', 'addict', 'gas', 'cook', 'jet'], 'definitions': 'the substance that emerges from a fire when wood is burned'}, {'word': 'daisy', 'lexnames': ['noun.plant'], 'root_affix': [], 'sememes': ['FlowerGrass'], 'definitions': 'a flower with small white petals and a fuzzy yellow centre'}, {'word': 'castle', 'lexnames': ['noun.act', 'verb.competition', 'noun.artifact'], 'root_affix': [], 'sememes': ['place', 'city', 'facilities'], 'definitions': 'a large building made of stones that is easy for an army to defend'}, {'word': 'road', 'lexnames': ['noun.act', 'noun.artifact'], 'root_affix': ['road'], 'sememes': ['route'], 'definitions': 'a track or route for cars and other motor vehicles'}, {'word': 'love', 'lexnames': ['noun.person', 'noun.act', 'noun.quantity', 'verb.contact', 'noun.cognition', 'noun.feeling', 'verb.emotion'], 'root_affix': ['love'], 'sememes': ['like', 'FondOf', 'emotion'], 'definitions': 'a strong emotional feeling of physical or mental attraction towards somebody'}, {'word': 'family', 'lexnames': ['noun.group', 'noun.person'], 'root_affix': [], 'sememes': ['lineal', 'human', 'family', 'NounUnit', 'biology', 'entity', 'animate', 'group'], 'definitions': 'a group of people like a mother father and children who are all related'}, {'word': 'supply', 'lexnames': ['noun.act', 'noun.process', 'noun.quantity', 'verb.social', 'verb.consumption', 'verb.possession', 'verb.communication'], 'root_affix': [], 'sememes': ['artifact', 'provide', 'issue'], 'definitions': 'to regularly provide people or an organization with things'}, {'word': 'straw', 'lexnames': ['noun.artifact', 'noun.attribute', 'adj.all', 'verb.contact', 'noun.substance'], 'root_affix': [], 'sememes': ['part', 'FlowerGrass', 'material', 'drink', 'drinks', 'body', 'crop', 'physiology', 'plant', 'tool'], 'definitions': 'a thin tube that you can use to drink a drink through'}, {'word': 'confuse', 'lexnames': ['verb.cognition', 'verb.creation', 'verb.emotion'], 'root_affix': ['con', 'fuse'], 'sememes': ['blurred', 'deceive', 'ize'], 'definitions': 'to make something hard to understand or to make it hard for someone to understand something'}, {'word': 'news', 'lexnames': ['noun.communication', 'noun.attribute'], 'root_affix': ['news'], 'sememes': ['new', 'information', 'disseminate', 'news'], 'definitions': 'recent information about the world often distributed via the media'}, {'word': 'message', 'lexnames': ['noun.communication', 'verb.communication'], 'root_affix': [], 'sememes': ['information', 'announce', 'text', 'transmit'], 'definitions': 'a small amount of information passed between two people'}, {'word': 'speak', 'lexnames': ['verb.perception', 'verb.communication'], 'root_affix': ['speak'], 'sememes': ['mass', 'human', 'speak'], 'definitions': 'to form words with your mouth so that you can communicate with other people'}, {'word': 'rely', 'lexnames': ['verb.cognition'], 'root_affix': ['re', 'ly'], 'sememes': ['depend'], 'definitions': 'when you regularly use something or somebody to do something and you would not be able to do it otherwise'}, {'word': 'basketball', 'lexnames': ['noun.act', 'noun.artifact'], 'root_affix': [], 'sememes': ['round', 'basketball', 'fact', 'sport', 'SportTool', 'exercise'], 'definitions': 'a game in which two teams of five players each are trying to win points by throwing a ball through a rim placed at a certain height'}, {'word': 'prepare', 'lexnames': ['verb.perception', 'verb.social', 'verb.creation', 'verb.cognition', 'verb.change'], 'root_affix': [], 'sememes': ['produce', 'medicine', 'chemical', 'prepare', 'cook'], 'definitions': 'to get yourself or something or someone else ready to do something'}, {'word': 'army', 'lexnames': ['noun.group'], 'root_affix': [], 'sememes': ['land', 'part', 'fight', 'army', 'military'], 'definitions': 'a group of men who fight together in the name of a country'}, {'word': 'fight', 'lexnames': ['noun.act', 'verb.competition', 'verb.social', 'noun.attribute', 'noun.communication'], 'root_affix': ['fight'], 'sememes': ['endeavour', 'fact', 'fight', 'sport', 'military', 'compete'], 'definitions': 'a physical confrontation where people try to hurt each other'}, {'word': 'camera', 'lexnames': ['noun.artifact'], 'root_affix': [], 'sememes': ['TakePicture', 'tool', 'image'], 'definitions': 'a machine for taking photographs'}, {'word': 'music', 'lexnames': ['noun.act', 'noun.communication', 'noun.cognition'], 'root_affix': [], 'sememes': ['publications', 'record', 'music'], 'definitions': 'noise that is tuneful and people listen to for pleasure'}, {'word': 'recommend', 'lexnames': ['verb.change', 'verb.communication'], 'root_affix': [], 'sememes': ['propose', 'recommend'], 'definitions': 'when you tell other people that something is very good and the right choice'}, {'word': 'headache', 'lexnames': ['noun.state', 'noun.cognition'], 'root_affix': [], 'sememes': ['urge', 'upset', 'fact', 'phenomena', 'able', 'head', 'disease', 'painful', 'medical', 'appear'], 'definitions': 'a feeling of pain in the head or brain'}, {'word': 'ceiling', 'lexnames': ['noun.communication', 'noun.artifact', 'noun.attribute'], 'root_affix': [], 'sememes': ['Boundary', 'part', 'GreaterThanNormal', 'building', 'entity', 'most'], 'definitions': 'the top often flat surface of a room'}, {'word': 'flight', 'lexnames': ['noun.act', 'noun.artifact', 'verb.motion', 'verb.social', 'verb.creation', 'noun.group', 'noun.phenomenon', 'noun.cognition'], 'root_affix': ['flight'], 'sememes': ['fly', 'fact', 'tour', 'sky', 'aircraft'], 'definitions': 'a journey in an aeroplane or the act of travelling in the air'}, {'word': 'afford', 'lexnames': ['verb.consumption', 'verb.stative', 'verb.possession'], 'root_affix': [], 'sememes': ['provide'], 'definitions': 'when you have enough money or time that you can do or buy something that you want'}, {'word': 'chocolate', 'lexnames': ['noun.food', 'noun.attribute'], 'root_affix': [], 'sememes': ['food'], 'definitions': 'a popular brown sweet made with milk and cocoa'}, {'word': 'glass', 'lexnames': ['noun.artifact', 'verb.perception', 'noun.quantity', 'verb.contact', 'verb.possession', 'noun.substance', 'verb.change'], 'root_affix': ['glass'], 'sememes': ['artifact', 'human', 'material', 'drinks', 'put', 'tool', 'look', 'self'], 'definitions': 'a clear material that you can see through used to make windows'}, {'word': 'hear', 'lexnames': ['verb.perception', 'verb.cognition', 'verb.social'], 'root_affix': [], 'sememes': ['perception', 'police', 'judge', 'know', 'listen', 'investigate', 'start'], 'definitions': 'when your ears detect a sound and you are therefore aware of that sound'}, {'word': 'fur', 'lexnames': ['noun.animal', 'noun.substance', 'noun.artifact'], 'root_affix': ['fur'], 'sememes': ['part', 'animal', 'material', 'skin', 'tool', 'inlay', 'clothing'], 'definitions': 'another word for hair that is used when the hair is on an animal'}, {'word': 'prevent', 'lexnames': ['verb.social'], 'root_affix': [], 'sememes': ['obstruct'], 'definitions': 'to stop and event or action from happening either on purpose or by accident'}, {'word': 'balloons', 'lexnames': [], 'root_affix': ['s'], 'sememes': [], 'definitions': 'inflated sacks of rubber popular at childrens parties and fairs'}, {'word': 'require', 'lexnames': ['verb.consumption', 'verb.communication', 'verb.stative'], 'root_affix': [], 'sememes': ['need', 'request'], 'definitions': 'to have a rule that you need a specific object or thing in some situation'}, {'word': 'worm', 'lexnames': ['noun.person', 'noun.artifact', 'verb.motion', 'noun.communication', 'noun.animal'], 'root_affix': ['worm'], 'sememes': ['ResultIn', 'timid', 'part', 'human', 'machine', 'bacteria', 'able', 'disease', 'medical', 'remove', 'InsectWorm'], 'definitions': 'a small thin slimy animal with no legs that lives in earth'}, {'word': 'soup', 'lexnames': ['noun.state', 'noun.food', 'noun.substance', 'verb.body'], 'root_affix': [], 'sememes': ['food', 'cook', 'StateLiquid'], 'definitions': 'a liquid food made from blended ingredients often eaten hot'}, {'word': 'remain', 'lexnames': ['verb.change', 'verb.stative'], 'root_affix': [], 'sememes': ['stay', 'be', 'exist', 'GoOn'], 'definitions': 'when you stay in a particular place or state rather than changing in some way'}, {'word': 'marriage', 'lexnames': ['noun.group', 'noun.act', 'noun.state'], 'root_affix': [], 'sememes': ['GetMarried', 'fact', 'MarryTo', 'human'], 'definitions': 'when a man and a woman make their relationship formal for the rest of their life'}, {'word': 'fun', 'lexnames': ['noun.act', 'noun.communication', 'noun.attribute'], 'root_affix': ['fun'], 'sememes': ['fact', 'tease', 'interesting', 'FondOf', 'emotion'], 'definitions': 'something that makes you happy or makes you laugh'}, {'word': 'problem', 'lexnames': ['noun.state', 'noun.communication', 'noun.cognition'], 'root_affix': [], 'sememes': ['problem'], 'definitions': 'a situation or circumstance that causes difficulties or issues for somebody'}, {'word': 'grass', 'lexnames': ['noun.person', 'noun.artifact', 'noun.food', 'noun.plant', 'verb.competition', 'verb.consumption', 'verb.contact', 'verb.communication'], 'root_affix': ['grass'], 'sememes': ['FlowerGrass', 'space', 'facilities'], 'definitions': 'the green plant that grows all over the flat part in somebodys garden'}, {'word': 'history', 'lexnames': ['noun.communication', 'noun.cognition', 'noun.time'], 'root_affix': [], 'sememes': ['knowledge', 'fact', 'record', 'important', 'past', 'readings'], 'definitions': 'all of the events that happened in the past'}, {'word': 'lick', 'lexnames': ['noun.act', 'verb.contact', 'verb.consumption', 'noun.object', 'verb.cognition'], 'root_affix': [], 'sememes': [], 'definitions': 'to brush your tongue against something to taste it or to make it wet'}, {'word': 'describe', 'lexnames': ['verb.contact', 'verb.cognition', 'verb.communication'], 'root_affix': [], 'sememes': ['describe', 'explain'], 'definitions': 'to think about a place or person or thing and then to write or say many of its different properties'}, {'word': 'telephone', 'lexnames': ['noun.communication', 'verb.communication', 'noun.artifact'], 'root_affix': [], 'sememes': ['DistanceValue', 'fact', 'communicate', 'LengthLong', 'tool'], 'definitions': 'a machine used for talking when two people are not in the same place'}, {'word': 'lust', 'lexnames': ['noun.act', 'verb.consumption', 'noun.feeling'], 'root_affix': ['lust'], 'sememes': ['expect', 'mating', 'aspiration', 'emotion'], 'definitions': 'a feeling of strong physical and sexual attraction'}, {'word': 'stroke', 'lexnames': ['noun.person', 'noun.act', 'noun.state', 'verb.competition', 'noun.quantity', 'verb.contact', 'noun.communication', 'noun.event', 'verb.communication'], 'root_affix': ['stroke'], 'sememes': ['attack', 'stroke', 'paralyse', 'fact', 'part', 'rub', 'machine', 'wave', 'character'], 'definitions': 'to smooth or brush the fur or skin of an animal'}, {'word': 'exist', 'lexnames': ['verb.stative'], 'root_affix': [], 'sememes': ['exist', 'alive'], 'definitions': 'to be alive and part of the world'}, {'word': 'seem', 'lexnames': ['verb.perception', 'verb.stative'], 'root_affix': [], 'sememes': ['BeSimilar'], 'definitions': 'when something looks or appears or gives you the impression that it has certain properties or is in a certain state'}, {'word': 'clothing', 'lexnames': ['noun.artifact'], 'root_affix': [], 'sememes': ['clothing'], 'definitions': 'things people wear to cover themselves'}, {'word': 'occur', 'lexnames': ['verb.cognition', 'verb.change', 'verb.stative'], 'root_affix': [], 'sememes': ['happen'], 'definitions': 'when an even happens or takes place'}, {'word': 'goal', 'lexnames': ['noun.act', 'noun.location', 'noun.cognition', 'noun.artifact'], 'root_affix': ['goal'], 'sememes': ['facilities', 'sport', 'result', 'compete', 'win', 'purpose', 'exercise', 'football'], 'definitions': 'the way to score a point in football'}, {'word': 'technology', 'lexnames': ['noun.act', 'noun.cognition'], 'root_affix': [], 'sememes': ['knowledge', 'problem', 'handle', 'use'], 'definitions': 'recent man made inventions or ideas that rely on the latest knowledge and tools'}, {'word': 'ideas', 'lexnames': [], 'root_affix': [], 'sememes': [], 'definitions': 'thoughts that appear in your mind'}, {'word': 'write', 'lexnames': ['verb.communication', 'verb.creation'], 'root_affix': [], 'sememes': ['compile', 'write'], 'definitions': 'to produce words and language that people can see on paper on with your computer'}, {'word': 'speaker', 'lexnames': ['noun.person', 'noun.artifact'], 'root_affix': [], 'sememes': ['forming', 'institution', 'manage', 'human', 'Occupation', 'official', 'politics', 'law'], 'definitions': 'the part of a stereo system where the music comes from'}, {'word': 'elephant', 'lexnames': ['noun.animal', 'noun.communication'], 'root_affix': [], 'sememes': ['beast'], 'definitions': 'a large animal with big ears a trunk and a long nose called a tusk'}, {'word': 'green', 'lexnames': ['noun.person', 'noun.artifact', 'adj.pert', 'noun.food', 'noun.attribute', 'adj.all', 'noun.location', 'noun.object', 'verb.change'], 'root_affix': ['green'], 'sememes': ['Environment', 'land', 'planting', 'FlowerGrass', 'PropertyValue', 'able', 'neg', 'green', 'protect', 'entity', 'tree'], 'definitions': 'the colour of most plants you get it when you mix blue and yellow'}, {'word': 'aunt', 'lexnames': ['noun.person'], 'root_affix': [], 'sememes': ['human', 'family', 'collateral', 'female', 'adult', 'senior'], 'definitions': 'the sister of your mother'}, {'word': 'week', 'lexnames': ['noun.time'], 'root_affix': [], 'sememes': ['time', 'week', 'Unit'], 'definitions': 'a seven day period that ends in the weekend'}, {'word': 'map', 'lexnames': ['noun.artifact', 'verb.creation', 'verb.stative', 'verb.cognition', 'verb.change', 'noun.relation'], 'root_affix': ['map'], 'sememes': ['image', 'draw', 'earth'], 'definitions': 'a diagram that shows the location of places in a city or country'}, {'word': 'begin', 'lexnames': ['noun.person', 'verb.communication', 'verb.social', 'verb.stative', 'verb.change'], 'root_affix': [], 'sememes': ['begin', 'start'], 'definitions': 'to start a process or a programme or an action'}, {'word': 'literature', 'lexnames': ['noun.act', 'noun.communication', 'noun.cognition'], 'root_affix': [], 'sememes': ['compile', 'literature', 'affairs', 'text'], 'definitions': 'a general word for the stories or poems that are written down for other people to read'}, {'word': 'petrol', 'lexnames': ['noun.substance'], 'root_affix': [], 'sememes': ['burn', 'liquid', 'material'], 'definitions': 'the fuel that people put in their cars'}, {'word': 'mouth', 'lexnames': ['noun.person', 'noun.artifact', 'verb.contact', 'noun.communication', 'noun.body', 'noun.object', 'verb.communication'], 'root_affix': ['mouth'], 'sememes': ['location', 'forming', 'AnimalHuman', 'part', 'mouth', 'bird', 'physiology', 'split', 'viscera'], 'definitions': 'the hole on your face where food goes in and the voice comes out'}, {'word': 'user', 'lexnames': ['noun.person'], 'root_affix': ['user'], 'sememes': ['human', 'use'], 'definitions': 'somebody who uses something'}, {'word': 'opportunity', 'lexnames': ['noun.state'], 'root_affix': [], 'sememes': ['Possibility', 'suitable', 'event'], 'definitions': 'the possibility or chance of doing or achieving something positive'}, {'word': 'grow', 'lexnames': ['verb.change', 'verb.creation', 'verb.stative', 'verb.body'], 'root_affix': [], 'sememes': ['planting', 'cultivate', 'wind', 'keep', 'BecomeMore', 'become', 'grow', 'happen', 'foster'], 'definitions': 'when a living thing gets bigger naturally'}, {'word': 'butter', 'lexnames': ['noun.person', 'noun.food', 'verb.contact'], 'root_affix': ['butter'], 'sememes': ['food', 'material'], 'definitions': 'fat from animal milk which you can eat cold or use in cooking'}, {'word': 'remember', 'lexnames': ['verb.cognition', 'verb.communication', 'verb.possession'], 'root_affix': [], 'sememes': ['time', 'remember', 'commemorate'], 'definitions': 'to recreate a thought or fact or event from the past in your mind'}, {'word': 'invest', 'lexnames': ['verb.social', 'verb.possession'], 'root_affix': [], 'sememes': ['finance', 'provide', 'fund'], 'definitions': 'to give you money to a person or organization because you hope they will use the money and give you more money back in the future'}, {'word': 'lose', 'lexnames': ['verb.perception', 'verb.competition', 'verb.contact', 'verb.possession', 'verb.emotion', 'verb.change'], 'root_affix': ['lose'], 'sememes': ['exhaust', 'CauseToDo', 'disappear', 'defeated', 'finance', 'lose'], 'definitions': 'when you have something and then something happens and you do not have it any more'}, {'word': 'maintain', 'lexnames': ['verb.consumption', 'verb.stative', 'verb.possession', 'verb.cognition', 'verb.communication'], 'root_affix': ['maintain'], 'sememes': ['regard', 'maintain', 'keep'], 'definitions': 'when you keep something as it is possibly by regularly checking or repairing it'}, {'word': 'solve', 'lexnames': ['verb.cognition', 'verb.communication'], 'root_affix': [], 'sememes': ['Vachieve', 'exam', 'scout', 'problem', 'document', 'handle', 'reply'], 'definitions': 'to work on or think about a problem and then find the answer'}, {'word': 'allow', 'lexnames': ['verb.social', 'verb.stative', 'verb.possession', 'verb.cognition', 'verb.communication'], 'root_affix': [], 'sememes': ['CauseToDo', 'agree'], 'definitions': 'to let somebody do something because it is not against the rules'}, {'word': 'enter', 'lexnames': ['verb.competition', 'verb.communication', 'verb.motion', 'verb.creation', 'verb.social', 'verb.contact', 'verb.stative', 'verb.change'], 'root_affix': ['enter'], 'sememes': ['order', 'computer', 'GoInto', 'record', 'text'], 'definitions': 'to go or move or travel into a particular place'}, {'word': 'wine', 'lexnames': ['noun.food', 'verb.consumption', 'noun.attribute'], 'root_affix': [], 'sememes': [], 'definitions': 'a popular alcoholic drink made with grapes'}, {'word': 'lake', 'lexnames': ['noun.substance', 'noun.object'], 'root_affix': ['lake'], 'sememes': ['planar', 'waters'], 'definitions': 'a large body of water that is surrounded by land'}, {'word': 'homework', 'lexnames': ['noun.act'], 'root_affix': [], 'sememes': ['fact', 'engage', 'teach', 'education', 'study'], 'definitions': 'work that is given to school children to do away from school'}, {'word': 'pizza', 'lexnames': ['noun.food'], 'root_affix': [], 'sememes': ['food'], 'definitions': 'an italian dish of bread covered in tomato sauce and toppings popular in the usa and other countries'}, {'word': 'cancer', 'lexnames': ['noun.person', 'noun.state', 'noun.location', 'noun.object', 'noun.animal'], 'root_affix': [], 'sememes': ['KindValue', 'human', 'ComeToWorld', 'control', 'disease', 'swollen', 'medical'], 'definitions': 'a type of deadly illness that spreads through the body by abnormal multiplication of cells'}, {'word': 'bell', 'lexnames': ['noun.person', 'noun.time', 'noun.artifact', 'noun.shape', 'verb.contact', 'noun.event'], 'root_affix': ['bell'], 'sememes': ['LandVehicle', 'MakeSound', 'tool', 'sound', 'house'], 'definitions': 'a simple metal instrument used to produce a loud noise found in church towers'}, {'word': 'menu', 'lexnames': ['noun.food', 'noun.communication', 'noun.cognition'], 'root_affix': [], 'sememes': ['information', 'computer', 'Name', 'account', 'record', 'document', 'edible', 'software'], 'definitions': 'a list of available food and drink options'}, {'word': 'pride', 'lexnames': ['noun.act', 'noun.attribute', 'noun.group', 'noun.feeling', 'verb.emotion'], 'root_affix': [], 'sememes': ['glorious', 'human', 'self', 'cherish', 'respect', 'satisfied', 'emotion'], 'definitions': 'a positive feeling of satisfaction at the actions or achievement of oneelf or others'}, {'word': 'milk', 'lexnames': ['noun.food', 'verb.consumption', 'noun.body', 'noun.object', 'verb.change'], 'root_affix': ['milk'], 'sememes': ['AnimalHuman', 'part', 'gather', 'BodyFluid', 'drink', 'female', 'drinks', 'feed', 'physiology', 'livestock'], 'definitions': 'a white liquid produced by female mammals to feed their young'}, {'word': 'video', 'lexnames': ['noun.communication', 'noun.artifact'], 'root_affix': ['video'], 'sememes': ['TakePicture', 'shows', 'image'], 'definitions': 'the medium of recorded moving images often combined with sounds'}, {'word': 'mortgage', 'lexnames': ['verb.possession', 'noun.possession'], 'root_affix': [], 'sememes': ['borrow', 'pawn', 'physical', 'lend', 'finance', 'commerce', 'money'], 'definitions': 'a loan made specifically to buy a house or other property'}, {'word': 'calendar', 'lexnames': ['noun.group', 'verb.cognition', 'noun.communication', 'noun.time'], 'root_affix': [], 'sememes': ['day', 'tool', 'tell', 'law', 'time'], 'definitions': 'an agenda for a whole year that includes a particular part or page for each month'}, {'word': 'sea', 'lexnames': ['noun.phenomenon', 'noun.quantity', 'noun.object'], 'root_affix': ['sea'], 'sememes': ['planar', 'waters'], 'definitions': 'the salty water that covers much of the surface of the earth'}, {'word': 'finger', 'lexnames': ['noun.artifact', 'noun.quantity', 'verb.contact', 'noun.body', 'verb.communication'], 'root_affix': ['finger'], 'sememes': ['physiology', 'hand', 'human', 'part'], 'definitions': 'the pointy extremities of the hand that allow humans and monkeys to control objects'}, {'word': 'east', 'lexnames': ['noun.relation', 'adv.all', 'noun.location', 'adj.all'], 'root_affix': [], 'sememes': ['location', 'east'], 'definitions': 'one of the directions on a compass that points right when you look at it'}, {'word': 'knife', 'lexnames': ['verb.contact', 'noun.artifact', 'noun.shape'], 'root_affix': ['knife'], 'sememes': ['stab', 'weapon', 'split', 'cut', 'military', 'tool'], 'definitions': 'a sharp metal tool that can be used as a weapon or in a kitchen for chopping food'}, {'word': 'swimming', 'lexnames': ['noun.act', 'adj.all'], 'root_affix': [], 'sememes': ['swim', 'FuncWord'], 'definitions': 'when a fish or animal propels itself through water'}, {'word': 'potato', 'lexnames': ['noun.food', 'noun.plant'], 'root_affix': [], 'sememes': ['base', 'eat', 'part', 'vegetable'], 'definitions': 'a plain tasting root vegetable used as a staple food and to make chips or fries'}, {'word': 'dog', 'lexnames': ['noun.person', 'noun.artifact', 'noun.food', 'verb.motion', 'noun.animal'], 'root_affix': ['dog'], 'sememes': ['chase', 'domesticated', 'livestock', 'follow'], 'definitions': 'an animal that is commonly kept as a pet and is famous for loyalty to humans'}, {'word': 'taste', 'lexnames': ['noun.act', 'verb.perception', 'noun.food', 'verb.consumption', 'noun.event', 'noun.cognition', 'noun.feeling', 'verb.cognition'], 'root_affix': ['taste'], 'sememes': ['disgust', 'undergo', 'Taste', 'understand', 'be', 'experience', 'human', 'physical', 'FondOf', 'emotion'], 'definitions': 'one of the five senses that is felt in the mouth'}, {'word': 'salt', 'lexnames': ['verb.perception', 'noun.food', 'adj.all', 'verb.contact', 'noun.communication', 'noun.cognition', 'noun.substance', 'verb.change'], 'root_affix': ['salt'], 'sememes': ['discuss', 'delimit', 'fact', 'weapon', 'military'], 'definitions': 'a very common savoury white condiment or spice often found on the dining table'}, {'word': 'audience', 'lexnames': ['noun.group', 'noun.communication', 'noun.state'], 'root_affix': [], 'sememes': ['location', 'human', 'sit', 'listen', 'look'], 'definitions': 'the name for the people watching a production in a cinema , theatre or concert hall'}, {'word': 'inflation', 'lexnames': ['noun.process', 'noun.act', 'noun.event', 'noun.attribute'], 'root_affix': [], 'sememes': ['phenomena', 'BecomeMore', 'feed', 'commerce', 'gas', 'enlarge', 'money'], 'definitions': 'the process where the price of things increases across a country or economy'}, {'word': 'mouse', 'lexnames': ['noun.person', 'noun.artifact', 'noun.state', 'verb.motion', 'verb.contact', 'noun.animal'], 'root_affix': ['mouse'], 'sememes': ['beast', 'computer', 'part', 'timid', 'human', 'LookFor'], 'definitions': 'a small brown or grey rodent that likes cheese and is chased by cats'}, {'word': 'snow', 'lexnames': ['noun.person', 'noun.artifact', 'verb.weather', 'noun.phenomenon', 'noun.substance', 'verb.communication'], 'root_affix': ['snow'], 'sememes': ['WeatherBad', 'RainSnow'], 'definitions': 'soft white frozen rain that falls and settles on the ground when it is cold'}, {'word': 'silver', 'lexnames': ['noun.artifact', 'noun.possession', 'noun.attribute', 'adj.all', 'verb.contact', 'noun.substance', 'verb.change'], 'root_affix': ['silver'], 'sememes': ['reward', 'fact', 'metal', 'sport', 'tool', 'PropertyValue', 'finance', 'commerce', 'compete', 'past', 'money', 'chemistry'], 'definitions': 'a precious metal used to make the second place medal in the olympic games'}, {'word': 'golf', 'lexnames': ['noun.act', 'verb.competition'], 'root_affix': [], 'sememes': ['round', 'fact', 'sport', 'SportTool', 'exercise'], 'definitions': 'a sport where metal sticks are used to hit a stationary ball into eighteen small holes'}, {'word': 'resort', 'lexnames': ['noun.act', 'verb.social', 'verb.motion', 'noun.attribute', 'noun.location'], 'root_affix': [], 'sememes': ['method', 'Scene', 'tour', 'request', 'famous', 'help', 'place'], 'definitions': 'a town that is designed and known as a tourist destination usually in mountains or by the sea'}, {'word': 'garage', 'lexnames': ['verb.possession', 'noun.artifact'], 'root_affix': [], 'sememes': ['LandVehicle', 'facilities', 'put', 'store'], 'definitions': 'a part of a house or building where cars can park indoors'}, {'word': 'hair', 'lexnames': ['noun.artifact', 'noun.plant', 'noun.quantity', 'noun.body', 'noun.animal'], 'root_affix': ['hair'], 'sememes': ['hair', 'AnimalHuman', 'part', 'human', 'physiology', 'grow'], 'definitions': 'thin strands of living tissue that grow out of the skin of animals for warmth'}, {'word': 'wing', 'lexnames': ['noun.person', 'noun.artifact', 'noun.food', 'verb.motion', 'noun.group', 'noun.location', 'noun.animal'], 'root_affix': ['wing'], 'sememes': ['location', 'house', 'wing', 'community', 'part', 'sport', 'human', 'fight', 'bird', 'edge', 'physiology', 'army', 'military', 'secondary', 'sky', 'aspect', 'aircraft', 'exercise', 'football'], 'definitions': 'the limbs that birds move in order to fly'}, {'word': 'star', 'lexnames': ['noun.person', 'verb.creation', 'noun.shape', 'adj.all', 'noun.communication', 'noun.cognition', 'verb.stative', 'noun.object', 'verb.change'], 'root_affix': ['star'], 'sememes': ['eat', 'tour', 'sport', 'entertainment', 'human', 'recreation', 'reside', 'perform', 'famous', 'HighQuality', 'important', 'celestial', 'InstitutePlace', 'undertake'], 'definitions': 'a shining or twinkling spot in the night sky'}, {'word': 'dance', 'lexnames': ['noun.act', 'verb.motion', 'verb.creation', 'noun.group', 'noun.communication', 'noun.event'], 'root_affix': ['dance'], 'sememes': ['fact', 'entertainment', 'recreation', 'shows', 'music'], 'definitions': 'to move your body to music in order to look or feel good'}, {'word': 'island', 'lexnames': ['noun.artifact', 'noun.object'], 'root_affix': [], 'sememes': ['surround', 'land', 'waters'], 'definitions': 'a body of land on the earth that is entirely surrounded by water'}, {'word': 'patient', 'lexnames': ['noun.person', 'noun.communication', 'adj.all'], 'root_affix': [], 'sememes': ['doctor', 'human', 'language', 'SufferFrom', 'medical', 'event'], 'definitions': 'a person in a hospital who is unwell and being treated by doctors or nurses'}, {'word': 'ambition', 'lexnames': ['noun.feeling', 'noun.attribute', 'verb.emotion'], 'root_affix': [], 'sememes': ['aspiration', 'willing', 'expect'], 'definitions': 'the desire to improve your life or to achieve better things in your career'}, {'word': 'climate', 'lexnames': ['noun.state'], 'root_affix': [], 'sememes': ['Circumstances', 'event', 'weather'], 'definitions': 'the general environmental and weather conditions in a country or place'}, {'word': 'wood', 'lexnames': ['noun.group', 'noun.substance', 'noun.person', 'noun.artifact'], 'root_affix': ['wood'], 'sememes': ['tree', 'wood', 'material', 'PropertyValue'], 'definitions': 'the material from the branches and trunks of trees used to make things'}, {'word': 'stomach', 'lexnames': ['verb.cognition', 'verb.consumption', 'noun.body', 'noun.feeling'], 'root_affix': [], 'sememes': ['digest', 'AnimalHuman', 'endure', 'part', 'physiology', 'viscera'], 'definitions': 'the organ in the body that is stores and digests food'}, {'word': 'childhood', 'lexnames': ['noun.state', 'noun.time'], 'root_affix': [], 'sememes': ['time', 'human', 'child'], 'definitions': 'the period of your life when you are a child and grow up'}, {'word': 'president', 'lexnames': ['noun.person', 'noun.act'], 'root_affix': [], 'sememes': ['discuss', 'institution', 'manage', 'HeadOfState', 'fact', 'human', 'economy', 'InstitutePlace', 'teach', 'education', 'study', 'country', 'Occupation', 'official', 'politics', 'place', 'ComeTogether'], 'definitions': 'the most important politician in various countries including the usa'}, {'word': 'lip', 'lexnames': ['noun.artifact', 'noun.plant', 'noun.communication', 'noun.body', 'noun.animal'], 'root_affix': ['lip'], 'sememes': ['physiology', 'mouth', 'AnimalHuman', 'part'], 'definitions': 'one of the soft pads above or below your mouth used for kissing'}, {'word': 'juice', 'lexnames': ['noun.state', 'noun.food', 'noun.body', 'noun.phenomenon'], 'root_affix': [], 'sememes': ['liquid', 'drinks'], 'definitions': 'the sweet liquid stored inside fruit that is healthy and delicious to drink'}, {'word': 'river', 'lexnames': ['noun.object'], 'root_affix': ['river'], 'sememes': ['linear', 'waters'], 'definitions': 'a natural waterway by which water flows from mountains or hills to the sea'}, {'word': 'wheel', 'lexnames': ['verb.motion', 'noun.artifact', 'noun.attribute'], 'root_affix': ['wheel'], 'sememes': ['push', 'fierce', 'LandVehicle', 'part', 'MakeBad', 'circle', 'leg', 'tool'], 'definitions': 'the circular parts of cars or vehicles designed to roll along the ground'}, {'word': 'city', 'lexnames': ['noun.group', 'noun.location'], 'root_affix': ['city'], 'sememes': ['place', 'ProperName', 'city'], 'definitions': 'a place like a large town where many people live close together'}, {'word': 'towel', 'lexnames': ['verb.contact', 'noun.artifact'], 'root_affix': [], 'sememes': ['tool', 'wipe'], 'definitions': 'a cloth used for drying people or things'}, {'word': 'screen', 'lexnames': ['noun.artifact', 'verb.perception', 'verb.competition', 'verb.social', 'noun.group', 'verb.contact', 'verb.cognition'], 'root_affix': ['screen'], 'sememes': ['look', 'information', 'disseminate', 'part', 'decorate', 'entertainment', 'choose', 'perform', 'check', 'cover', 'filter', 'display', 'shows', 'medical', 'tool', 'implement'], 'definitions': 'the glass cover on a television , computer or mobile phone'}, {'word': 'church', 'lexnames': ['noun.group', 'noun.act', 'verb.motion', 'noun.artifact'], 'root_affix': ['church'], 'sememes': ['InstitutePlace', 'religion', 'community'], 'definitions': 'a building where christians go to worship'}, {'word': 'panic', 'lexnames': ['noun.state', 'noun.feeling', 'verb.emotion'], 'root_affix': [], 'sememes': ['fear', 'emotion'], 'definitions': 'a sudden feeling of intense worry or fear'}, {'word': 'lunch', 'lexnames': ['noun.food', 'verb.consumption'], 'root_affix': [], 'sememes': ['eat', 'time', 'fact'], 'definitions': 'the meal people eat in the middle of the day'}]\n"
          ]
        }
      ],
      "source": [
        "import json\n",
        "fpath = 'data_desc_c.json'\n",
        "with open(fpath, 'r') as f:\n",
        "    data = json.load(f)"
      ]
    },
    {
      "cell_type": "markdown",
      "metadata": {
        "id": "3FZXKeFmFgH9"
      },
      "source": [
        "#### Task 2.2 Vectorize the definitions [1 point]\n",
        "\n",
        "Transform each definition in the dataset into the vector representation using the Word2Vec model that we loaded in the previous task. To do so, follow these steps:\n",
        "\n",
        "\n",
        "1. Tokenize the definition\n",
        "2. Remove the words that are not present in the model's dictionary\n",
        "3. Remove repeating words\n",
        "4. For each token retrieve the embedding from the model\n",
        "5. Take the mean of the retrieved embeddings to produce a single vector representation of the definiton"
      ]
    },
    {
      "cell_type": "code",
      "execution_count": 127,
      "metadata": {
        "id": "MCFfflblFgrn"
      },
      "outputs": [],
      "source": [
        "model = KeyedVectors.load_word2vec_format('model.bin', binary=True)\n",
        "vocab = model.key_to_index\n",
        "\n",
        "def vectorize_dictionary(dict_data):\n",
        "    emb_pairs = []\n",
        "    for word in dict_data:\n",
        "        tokenized_def = tokenize_review(word['definitions']) \n",
        "        tokenized_def = list(dict.fromkeys(tokenized_def))\n",
        "        tokenized_def = [token for token in tokenized_def if token in vocab]\n",
        "        embeddings = [model[token] for token in tokenized_def]\n",
        "        def_emb = np.mean(embeddings, axis=0)\n",
        "        emb_pairs.append((word['word'], def_emb))\n",
        "    return emb_pairs\n",
        "def_emb_pairs = vectorize_dictionary(data)"
      ]
    },
    {
      "cell_type": "markdown",
      "metadata": {
        "id": "QDACSB3dFsZG"
      },
      "source": [
        "#### Task 2.3 Retrieve words similar to definitions [2 points]\n",
        "\n",
        "1. For each definition compute the cosine similarity between the words in the model's vocabulary and the definition vector, sort the words in descending order based on the similarity to the definition\n",
        "2. For each definition find the index of the target word in the list obtained in the previous step - this is the rank of the target word\n",
        "3. Compute the following statistic for the ranks: max, min, median\n",
        "4. Find the definition with the highest target word rank and output the target word, the definition, and the top 10 words most similar to the definition. Are there any other words in the top 10 that fit the definition?\n",
        "5. Repeat the previous step for the word with the lowest target word rank\n",
        "6. Analyze the definitions from the two previous steps. Suggest an explanation for the results"
      ]
    },
    {
      "cell_type": "code",
      "execution_count": 128,
      "metadata": {
        "id": "TGED7KM8Ftge"
      },
      "outputs": [
        {
          "name": "stdout",
          "output_type": "stream",
          "text": [
            "(302866, 200)\n",
            "(302866, 200)\n"
          ]
        }
      ],
      "source": [
        "from sklearn.metrics.pairwise import cosine_similarity\n",
        "vocab_embeds = np.array([model[token] for token in vocab])\n",
        "def_embeds = np.array([pair[1] for pair in def_emb_pairs])\n",
        "\n",
        "norm_vocab = np.linalg.norm(vocab_embeds, axis=1, keepdims=True)\n",
        "norm_def = np.linalg.norm(def_embeds, axis=1, keepdims=True)\n",
        "vocab_embeds_norm = vocab_embeds / norm_vocab\n",
        "def_embeds_norm = def_embeds / norm_def\n",
        "\n",
        "cosine_similarity = np.dot(vocab_embeds_norm, def_embeds_norm.T)\n",
        "print(cosine_similarity.shape)\n",
        "\n",
        "# soring columns\n",
        "sorted_indices = np.argsort(cosine_similarity, axis=0)[::-1, :]\n",
        "print(sorted_indices.shape)"
      ]
    },
    {
      "cell_type": "code",
      "execution_count": 102,
      "metadata": {},
      "outputs": [],
      "source": [
        "target_ranks = {}\n",
        "for i, word in enumerate(data):\n",
        "    target_word = word['word']\n",
        "    target_word_vocab_ind = vocab[target_word]\n",
        "    definition_ranks = sorted_indices[:, i]\n",
        "\n",
        "    target_rank = np.where(definition_ranks == target_word_vocab_ind)[0][0]\n",
        "    target_ranks[target_word] = target_rank"
      ]
    },
    {
      "cell_type": "code",
      "execution_count": 104,
      "metadata": {},
      "outputs": [
        {
          "name": "stdout",
          "output_type": "stream",
          "text": [
            "Vocab size 302866\n",
            "Target rank median 521.0\n",
            "Target rank min 0\n",
            "Target rank max 104167\n"
          ]
        }
      ],
      "source": [
        "pure_target_ranks = np.array(list(target_ranks.values()))\n",
        "\n",
        "print(f'Vocab size {len(vocab)}')\n",
        "print(f'Target rank median {np.median(pure_target_ranks)}')\n",
        "print(f'Target rank min {np.min(pure_target_ranks)}')\n",
        "print(f'Target rank max {np.max(pure_target_ranks)}')"
      ]
    },
    {
      "cell_type": "code",
      "execution_count": 114,
      "metadata": {},
      "outputs": [
        {
          "name": "stdout",
          "output_type": "stream",
          "text": [
            "Highest target word rank word: \"art\"\n",
            "Highest target word rank definition: \"the word for painting music theatre sculpture and other creative activities\"\n",
            "The 10 most similar words to the difinition are: \n",
            "art, painting, music, the, sculpture, for, a, dance, is, of\n"
          ]
        }
      ],
      "source": [
        "min_rank_target_ind = np.argmin(pure_target_ranks)\n",
        "target_word = data[min_rank_target_ind]\n",
        "print(f'Highest target word rank word: \"{target_word['word']}\"')\n",
        "print(f'Highest target word rank definition: \"{target_word['definitions']}\"')\n",
        "\n",
        "similar_word_vocab_inds = sorted_indices[:10, min_rank_target_ind]\n",
        "vocab_list = np.array(list(vocab.keys()))\n",
        "print('The 10 most similar words to the difinition are: ')\n",
        "print(', '.join(vocab_list[similar_word_vocab_inds]))"
      ]
    },
    {
      "cell_type": "markdown",
      "metadata": {},
      "source": [
        "The difinition of art contains all of the words that are closest to it directly, consequently these words are close to each other (painting, music, sculpture, dance). So the word art has such a high ranking because the definition for it contains word that are described as art and as such appear together in the corpus of the embedding model. The other close words are adjunctions, which are generally very common in language.  "
      ]
    },
    {
      "cell_type": "code",
      "execution_count": 117,
      "metadata": {},
      "outputs": [
        {
          "name": "stdout",
          "output_type": "stream",
          "text": [
            "Lowest target word rank word: \"president\"\n",
            "Lowest target word rank definition: \"the most important politician in various countries including the usa\"\n",
            "The 10 most similar words to the difinition are: \n",
            "various, notably, including, important, well, many, besides, numerous, in, shrew-forms\n"
          ]
        }
      ],
      "source": [
        "max_rank_target_ind = np.argmax(pure_target_ranks)\n",
        "target_word = data[max_rank_target_ind]\n",
        "\n",
        "print(f'Lowest target word rank word: \"{target_word['word']}\"')\n",
        "print(f'Lowest target word rank definition: \"{target_word['definitions']}\"')\n",
        "\n",
        "similar_word_vocab_inds = sorted_indices[:10, max_rank_target_ind]\n",
        "print('The 10 most similar words to the difinition are: ')\n",
        "print(', '.join(vocab_list[similar_word_vocab_inds]))"
      ]
    },
    {
      "cell_type": "markdown",
      "metadata": {},
      "source": [
        "Here we see that the embedding model is not so good for the word \"president\", as the most similar words do not appear to be closely related to it, hence the low ranking of the word. This is likely because the definition describes the target word not by association with other words, but in a more contextual and inderect manner. This highlights that a more complex model is needed to capture the essence of such definitions. "
      ]
    }
  ],
  "metadata": {
    "colab": {
      "provenance": []
    },
    "kernelspec": {
      "display_name": "Python 3",
      "name": "python3"
    },
    "language_info": {
      "codemirror_mode": {
        "name": "ipython",
        "version": 3
      },
      "file_extension": ".py",
      "mimetype": "text/x-python",
      "name": "python",
      "nbconvert_exporter": "python",
      "pygments_lexer": "ipython3",
      "version": "3.12.2"
    },
    "widgets": {
      "application/vnd.jupyter.widget-state+json": {
        "037e343252ea41a2b59d717732aaf31c": {
          "model_module": "@jupyter-widgets/base",
          "model_module_version": "1.2.0",
          "model_name": "LayoutModel",
          "state": {
            "_model_module": "@jupyter-widgets/base",
            "_model_module_version": "1.2.0",
            "_model_name": "LayoutModel",
            "_view_count": null,
            "_view_module": "@jupyter-widgets/base",
            "_view_module_version": "1.2.0",
            "_view_name": "LayoutView",
            "align_content": null,
            "align_items": null,
            "align_self": null,
            "border": null,
            "bottom": null,
            "display": null,
            "flex": null,
            "flex_flow": null,
            "grid_area": null,
            "grid_auto_columns": null,
            "grid_auto_flow": null,
            "grid_auto_rows": null,
            "grid_column": null,
            "grid_gap": null,
            "grid_row": null,
            "grid_template_areas": null,
            "grid_template_columns": null,
            "grid_template_rows": null,
            "height": null,
            "justify_content": null,
            "justify_items": null,
            "left": null,
            "margin": null,
            "max_height": null,
            "max_width": null,
            "min_height": null,
            "min_width": null,
            "object_fit": null,
            "object_position": null,
            "order": null,
            "overflow": null,
            "overflow_x": null,
            "overflow_y": null,
            "padding": null,
            "right": null,
            "top": null,
            "visibility": null,
            "width": null
          }
        },
        "045b7f4858d246649ec021d2795ecbb0": {
          "model_module": "@jupyter-widgets/controls",
          "model_module_version": "1.5.0",
          "model_name": "HBoxModel",
          "state": {
            "_dom_classes": [],
            "_model_module": "@jupyter-widgets/controls",
            "_model_module_version": "1.5.0",
            "_model_name": "HBoxModel",
            "_view_count": null,
            "_view_module": "@jupyter-widgets/controls",
            "_view_module_version": "1.5.0",
            "_view_name": "HBoxView",
            "box_style": "",
            "children": [
              "IPY_MODEL_88ef84b6d8864e27ba92b89978084bc8",
              "IPY_MODEL_90c9fca52e26453788b0a692aa74c2cf",
              "IPY_MODEL_159bb3525832426dbd0c832fe57af37b"
            ],
            "layout": "IPY_MODEL_22d41b6f8cfa48569e2ea1fb405fd31f"
          }
        },
        "063a6e084d7a4c8fb29332907b71538a": {
          "model_module": "@jupyter-widgets/controls",
          "model_module_version": "1.5.0",
          "model_name": "HTMLModel",
          "state": {
            "_dom_classes": [],
            "_model_module": "@jupyter-widgets/controls",
            "_model_module_version": "1.5.0",
            "_model_name": "HTMLModel",
            "_view_count": null,
            "_view_module": "@jupyter-widgets/controls",
            "_view_module_version": "1.5.0",
            "_view_name": "HTMLView",
            "description": "",
            "description_tooltip": null,
            "layout": "IPY_MODEL_29925363e821469cbae38a60ec955a35",
            "placeholder": "​",
            "style": "IPY_MODEL_1b2f2aad31d54ec3baa9a1e4caaa313d",
            "value": " 25000/25000 [00:00&lt;00:00, 48825.94 examples/s]"
          }
        },
        "09fe9d67642a4ffe986b61279db3e28a": {
          "model_module": "@jupyter-widgets/base",
          "model_module_version": "1.2.0",
          "model_name": "LayoutModel",
          "state": {
            "_model_module": "@jupyter-widgets/base",
            "_model_module_version": "1.2.0",
            "_model_name": "LayoutModel",
            "_view_count": null,
            "_view_module": "@jupyter-widgets/base",
            "_view_module_version": "1.2.0",
            "_view_name": "LayoutView",
            "align_content": null,
            "align_items": null,
            "align_self": null,
            "border": null,
            "bottom": null,
            "display": null,
            "flex": null,
            "flex_flow": null,
            "grid_area": null,
            "grid_auto_columns": null,
            "grid_auto_flow": null,
            "grid_auto_rows": null,
            "grid_column": null,
            "grid_gap": null,
            "grid_row": null,
            "grid_template_areas": null,
            "grid_template_columns": null,
            "grid_template_rows": null,
            "height": null,
            "justify_content": null,
            "justify_items": null,
            "left": null,
            "margin": null,
            "max_height": null,
            "max_width": null,
            "min_height": null,
            "min_width": null,
            "object_fit": null,
            "object_position": null,
            "order": null,
            "overflow": null,
            "overflow_x": null,
            "overflow_y": null,
            "padding": null,
            "right": null,
            "top": null,
            "visibility": null,
            "width": null
          }
        },
        "0ea77b3d79b64357bfb1ac6eb0a5ef82": {
          "model_module": "@jupyter-widgets/controls",
          "model_module_version": "1.5.0",
          "model_name": "HBoxModel",
          "state": {
            "_dom_classes": [],
            "_model_module": "@jupyter-widgets/controls",
            "_model_module_version": "1.5.0",
            "_model_name": "HBoxModel",
            "_view_count": null,
            "_view_module": "@jupyter-widgets/controls",
            "_view_module_version": "1.5.0",
            "_view_name": "HBoxView",
            "box_style": "",
            "children": [
              "IPY_MODEL_e79eecafecaf4b0fa57cceaf6645064c",
              "IPY_MODEL_379edc3b33414170a56808556a180ea9",
              "IPY_MODEL_063a6e084d7a4c8fb29332907b71538a"
            ],
            "layout": "IPY_MODEL_c5e4874650e3419eb882eee73af56e68"
          }
        },
        "13770ff45c11453fb3adb58ced163854": {
          "model_module": "@jupyter-widgets/controls",
          "model_module_version": "1.5.0",
          "model_name": "HTMLModel",
          "state": {
            "_dom_classes": [],
            "_model_module": "@jupyter-widgets/controls",
            "_model_module_version": "1.5.0",
            "_model_name": "HTMLModel",
            "_view_count": null,
            "_view_module": "@jupyter-widgets/controls",
            "_view_module_version": "1.5.0",
            "_view_name": "HTMLView",
            "description": "",
            "description_tooltip": null,
            "layout": "IPY_MODEL_e18b133991c34b8385fa37348ee2715a",
            "placeholder": "​",
            "style": "IPY_MODEL_e321facb9793445f93f05230a4067a89",
            "value": " 50000/50000 [00:01&lt;00:00, 39939.07 examples/s]"
          }
        },
        "13bd14e908da4387b13fb1565c507c3b": {
          "model_module": "@jupyter-widgets/controls",
          "model_module_version": "1.5.0",
          "model_name": "HTMLModel",
          "state": {
            "_dom_classes": [],
            "_model_module": "@jupyter-widgets/controls",
            "_model_module_version": "1.5.0",
            "_model_name": "HTMLModel",
            "_view_count": null,
            "_view_module": "@jupyter-widgets/controls",
            "_view_module_version": "1.5.0",
            "_view_name": "HTMLView",
            "description": "",
            "description_tooltip": null,
            "layout": "IPY_MODEL_833c0a7fa77e4674b555be910c1a1384",
            "placeholder": "​",
            "style": "IPY_MODEL_1ab00114fd98432984f74515e7a60ba9",
            "value": "Downloading data: 100%"
          }
        },
        "159bb3525832426dbd0c832fe57af37b": {
          "model_module": "@jupyter-widgets/controls",
          "model_module_version": "1.5.0",
          "model_name": "HTMLModel",
          "state": {
            "_dom_classes": [],
            "_model_module": "@jupyter-widgets/controls",
            "_model_module_version": "1.5.0",
            "_model_name": "HTMLModel",
            "_view_count": null,
            "_view_module": "@jupyter-widgets/controls",
            "_view_module_version": "1.5.0",
            "_view_name": "HTMLView",
            "description": "",
            "description_tooltip": null,
            "layout": "IPY_MODEL_ed8e4cf768e84fea871ce81c6d6d2643",
            "placeholder": "​",
            "style": "IPY_MODEL_e3ab6ed51b754fb1951b58ae7c5b26e0",
            "value": " 25000/25000 [00:00&lt;00:00, 33386.44 examples/s]"
          }
        },
        "1ab00114fd98432984f74515e7a60ba9": {
          "model_module": "@jupyter-widgets/controls",
          "model_module_version": "1.5.0",
          "model_name": "DescriptionStyleModel",
          "state": {
            "_model_module": "@jupyter-widgets/controls",
            "_model_module_version": "1.5.0",
            "_model_name": "DescriptionStyleModel",
            "_view_count": null,
            "_view_module": "@jupyter-widgets/base",
            "_view_module_version": "1.2.0",
            "_view_name": "StyleView",
            "description_width": ""
          }
        },
        "1adaa894a3ea42b6b62cd332a5d770c2": {
          "model_module": "@jupyter-widgets/base",
          "model_module_version": "1.2.0",
          "model_name": "LayoutModel",
          "state": {
            "_model_module": "@jupyter-widgets/base",
            "_model_module_version": "1.2.0",
            "_model_name": "LayoutModel",
            "_view_count": null,
            "_view_module": "@jupyter-widgets/base",
            "_view_module_version": "1.2.0",
            "_view_name": "LayoutView",
            "align_content": null,
            "align_items": null,
            "align_self": null,
            "border": null,
            "bottom": null,
            "display": null,
            "flex": null,
            "flex_flow": null,
            "grid_area": null,
            "grid_auto_columns": null,
            "grid_auto_flow": null,
            "grid_auto_rows": null,
            "grid_column": null,
            "grid_gap": null,
            "grid_row": null,
            "grid_template_areas": null,
            "grid_template_columns": null,
            "grid_template_rows": null,
            "height": null,
            "justify_content": null,
            "justify_items": null,
            "left": null,
            "margin": null,
            "max_height": null,
            "max_width": null,
            "min_height": null,
            "min_width": null,
            "object_fit": null,
            "object_position": null,
            "order": null,
            "overflow": null,
            "overflow_x": null,
            "overflow_y": null,
            "padding": null,
            "right": null,
            "top": null,
            "visibility": null,
            "width": null
          }
        },
        "1b2f2aad31d54ec3baa9a1e4caaa313d": {
          "model_module": "@jupyter-widgets/controls",
          "model_module_version": "1.5.0",
          "model_name": "DescriptionStyleModel",
          "state": {
            "_model_module": "@jupyter-widgets/controls",
            "_model_module_version": "1.5.0",
            "_model_name": "DescriptionStyleModel",
            "_view_count": null,
            "_view_module": "@jupyter-widgets/base",
            "_view_module_version": "1.2.0",
            "_view_name": "StyleView",
            "description_width": ""
          }
        },
        "1c7413877f14406f818e7083f5279ed1": {
          "model_module": "@jupyter-widgets/controls",
          "model_module_version": "1.5.0",
          "model_name": "DescriptionStyleModel",
          "state": {
            "_model_module": "@jupyter-widgets/controls",
            "_model_module_version": "1.5.0",
            "_model_name": "DescriptionStyleModel",
            "_view_count": null,
            "_view_module": "@jupyter-widgets/base",
            "_view_module_version": "1.2.0",
            "_view_name": "StyleView",
            "description_width": ""
          }
        },
        "21609958243041bd9499007684519bab": {
          "model_module": "@jupyter-widgets/controls",
          "model_module_version": "1.5.0",
          "model_name": "FloatProgressModel",
          "state": {
            "_dom_classes": [],
            "_model_module": "@jupyter-widgets/controls",
            "_model_module_version": "1.5.0",
            "_model_name": "FloatProgressModel",
            "_view_count": null,
            "_view_module": "@jupyter-widgets/controls",
            "_view_module_version": "1.5.0",
            "_view_name": "ProgressView",
            "bar_style": "success",
            "description": "",
            "description_tooltip": null,
            "layout": "IPY_MODEL_1adaa894a3ea42b6b62cd332a5d770c2",
            "max": 20470363,
            "min": 0,
            "orientation": "horizontal",
            "style": "IPY_MODEL_d8dc85f3ea2e45658a3c27060d2eab81",
            "value": 20470363
          }
        },
        "22d41b6f8cfa48569e2ea1fb405fd31f": {
          "model_module": "@jupyter-widgets/base",
          "model_module_version": "1.2.0",
          "model_name": "LayoutModel",
          "state": {
            "_model_module": "@jupyter-widgets/base",
            "_model_module_version": "1.2.0",
            "_model_name": "LayoutModel",
            "_view_count": null,
            "_view_module": "@jupyter-widgets/base",
            "_view_module_version": "1.2.0",
            "_view_name": "LayoutView",
            "align_content": null,
            "align_items": null,
            "align_self": null,
            "border": null,
            "bottom": null,
            "display": null,
            "flex": null,
            "flex_flow": null,
            "grid_area": null,
            "grid_auto_columns": null,
            "grid_auto_flow": null,
            "grid_auto_rows": null,
            "grid_column": null,
            "grid_gap": null,
            "grid_row": null,
            "grid_template_areas": null,
            "grid_template_columns": null,
            "grid_template_rows": null,
            "height": null,
            "justify_content": null,
            "justify_items": null,
            "left": null,
            "margin": null,
            "max_height": null,
            "max_width": null,
            "min_height": null,
            "min_width": null,
            "object_fit": null,
            "object_position": null,
            "order": null,
            "overflow": null,
            "overflow_x": null,
            "overflow_y": null,
            "padding": null,
            "right": null,
            "top": null,
            "visibility": null,
            "width": null
          }
        },
        "29925363e821469cbae38a60ec955a35": {
          "model_module": "@jupyter-widgets/base",
          "model_module_version": "1.2.0",
          "model_name": "LayoutModel",
          "state": {
            "_model_module": "@jupyter-widgets/base",
            "_model_module_version": "1.2.0",
            "_model_name": "LayoutModel",
            "_view_count": null,
            "_view_module": "@jupyter-widgets/base",
            "_view_module_version": "1.2.0",
            "_view_name": "LayoutView",
            "align_content": null,
            "align_items": null,
            "align_self": null,
            "border": null,
            "bottom": null,
            "display": null,
            "flex": null,
            "flex_flow": null,
            "grid_area": null,
            "grid_auto_columns": null,
            "grid_auto_flow": null,
            "grid_auto_rows": null,
            "grid_column": null,
            "grid_gap": null,
            "grid_row": null,
            "grid_template_areas": null,
            "grid_template_columns": null,
            "grid_template_rows": null,
            "height": null,
            "justify_content": null,
            "justify_items": null,
            "left": null,
            "margin": null,
            "max_height": null,
            "max_width": null,
            "min_height": null,
            "min_width": null,
            "object_fit": null,
            "object_position": null,
            "order": null,
            "overflow": null,
            "overflow_x": null,
            "overflow_y": null,
            "padding": null,
            "right": null,
            "top": null,
            "visibility": null,
            "width": null
          }
        },
        "2a33c51d796a4676bc713be9bfe90a1e": {
          "model_module": "@jupyter-widgets/controls",
          "model_module_version": "1.5.0",
          "model_name": "FloatProgressModel",
          "state": {
            "_dom_classes": [],
            "_model_module": "@jupyter-widgets/controls",
            "_model_module_version": "1.5.0",
            "_model_name": "FloatProgressModel",
            "_view_count": null,
            "_view_module": "@jupyter-widgets/controls",
            "_view_module_version": "1.5.0",
            "_view_name": "ProgressView",
            "bar_style": "success",
            "description": "",
            "description_tooltip": null,
            "layout": "IPY_MODEL_683c63e7f2784d0684fa6451d58c006c",
            "max": 50000,
            "min": 0,
            "orientation": "horizontal",
            "style": "IPY_MODEL_b8d7504657a8476286b831615f7b1bbf",
            "value": 50000
          }
        },
        "2bc9b1a266b7488d9271e72aaff4de92": {
          "model_module": "@jupyter-widgets/base",
          "model_module_version": "1.2.0",
          "model_name": "LayoutModel",
          "state": {
            "_model_module": "@jupyter-widgets/base",
            "_model_module_version": "1.2.0",
            "_model_name": "LayoutModel",
            "_view_count": null,
            "_view_module": "@jupyter-widgets/base",
            "_view_module_version": "1.2.0",
            "_view_name": "LayoutView",
            "align_content": null,
            "align_items": null,
            "align_self": null,
            "border": null,
            "bottom": null,
            "display": null,
            "flex": null,
            "flex_flow": null,
            "grid_area": null,
            "grid_auto_columns": null,
            "grid_auto_flow": null,
            "grid_auto_rows": null,
            "grid_column": null,
            "grid_gap": null,
            "grid_row": null,
            "grid_template_areas": null,
            "grid_template_columns": null,
            "grid_template_rows": null,
            "height": null,
            "justify_content": null,
            "justify_items": null,
            "left": null,
            "margin": null,
            "max_height": null,
            "max_width": null,
            "min_height": null,
            "min_width": null,
            "object_fit": null,
            "object_position": null,
            "order": null,
            "overflow": null,
            "overflow_x": null,
            "overflow_y": null,
            "padding": null,
            "right": null,
            "top": null,
            "visibility": null,
            "width": null
          }
        },
        "32f6e372a3494146aefdcbcc366d4472": {
          "model_module": "@jupyter-widgets/controls",
          "model_module_version": "1.5.0",
          "model_name": "HTMLModel",
          "state": {
            "_dom_classes": [],
            "_model_module": "@jupyter-widgets/controls",
            "_model_module_version": "1.5.0",
            "_model_name": "HTMLModel",
            "_view_count": null,
            "_view_module": "@jupyter-widgets/controls",
            "_view_module_version": "1.5.0",
            "_view_name": "HTMLView",
            "description": "",
            "description_tooltip": null,
            "layout": "IPY_MODEL_33e01cdd50ed4b3fb46e27190c672f75",
            "placeholder": "​",
            "style": "IPY_MODEL_db428e314f1b4c75a87d036efaa4707a",
            "value": " 42.0M/42.0M [00:01&lt;00:00, 33.0MB/s]"
          }
        },
        "330b5ba9724640128ba49b5a10ee608b": {
          "model_module": "@jupyter-widgets/controls",
          "model_module_version": "1.5.0",
          "model_name": "DescriptionStyleModel",
          "state": {
            "_model_module": "@jupyter-widgets/controls",
            "_model_module_version": "1.5.0",
            "_model_name": "DescriptionStyleModel",
            "_view_count": null,
            "_view_module": "@jupyter-widgets/base",
            "_view_module_version": "1.2.0",
            "_view_name": "StyleView",
            "description_width": ""
          }
        },
        "33945dfffb734491ba39b945e7f3f7a4": {
          "model_module": "@jupyter-widgets/base",
          "model_module_version": "1.2.0",
          "model_name": "LayoutModel",
          "state": {
            "_model_module": "@jupyter-widgets/base",
            "_model_module_version": "1.2.0",
            "_model_name": "LayoutModel",
            "_view_count": null,
            "_view_module": "@jupyter-widgets/base",
            "_view_module_version": "1.2.0",
            "_view_name": "LayoutView",
            "align_content": null,
            "align_items": null,
            "align_self": null,
            "border": null,
            "bottom": null,
            "display": null,
            "flex": null,
            "flex_flow": null,
            "grid_area": null,
            "grid_auto_columns": null,
            "grid_auto_flow": null,
            "grid_auto_rows": null,
            "grid_column": null,
            "grid_gap": null,
            "grid_row": null,
            "grid_template_areas": null,
            "grid_template_columns": null,
            "grid_template_rows": null,
            "height": null,
            "justify_content": null,
            "justify_items": null,
            "left": null,
            "margin": null,
            "max_height": null,
            "max_width": null,
            "min_height": null,
            "min_width": null,
            "object_fit": null,
            "object_position": null,
            "order": null,
            "overflow": null,
            "overflow_x": null,
            "overflow_y": null,
            "padding": null,
            "right": null,
            "top": null,
            "visibility": null,
            "width": null
          }
        },
        "33e01cdd50ed4b3fb46e27190c672f75": {
          "model_module": "@jupyter-widgets/base",
          "model_module_version": "1.2.0",
          "model_name": "LayoutModel",
          "state": {
            "_model_module": "@jupyter-widgets/base",
            "_model_module_version": "1.2.0",
            "_model_name": "LayoutModel",
            "_view_count": null,
            "_view_module": "@jupyter-widgets/base",
            "_view_module_version": "1.2.0",
            "_view_name": "LayoutView",
            "align_content": null,
            "align_items": null,
            "align_self": null,
            "border": null,
            "bottom": null,
            "display": null,
            "flex": null,
            "flex_flow": null,
            "grid_area": null,
            "grid_auto_columns": null,
            "grid_auto_flow": null,
            "grid_auto_rows": null,
            "grid_column": null,
            "grid_gap": null,
            "grid_row": null,
            "grid_template_areas": null,
            "grid_template_columns": null,
            "grid_template_rows": null,
            "height": null,
            "justify_content": null,
            "justify_items": null,
            "left": null,
            "margin": null,
            "max_height": null,
            "max_width": null,
            "min_height": null,
            "min_width": null,
            "object_fit": null,
            "object_position": null,
            "order": null,
            "overflow": null,
            "overflow_x": null,
            "overflow_y": null,
            "padding": null,
            "right": null,
            "top": null,
            "visibility": null,
            "width": null
          }
        },
        "347129e67dd14b669841cbc0a405ce2f": {
          "model_module": "@jupyter-widgets/controls",
          "model_module_version": "1.5.0",
          "model_name": "DescriptionStyleModel",
          "state": {
            "_model_module": "@jupyter-widgets/controls",
            "_model_module_version": "1.5.0",
            "_model_name": "DescriptionStyleModel",
            "_view_count": null,
            "_view_module": "@jupyter-widgets/base",
            "_view_module_version": "1.2.0",
            "_view_name": "StyleView",
            "description_width": ""
          }
        },
        "379edc3b33414170a56808556a180ea9": {
          "model_module": "@jupyter-widgets/controls",
          "model_module_version": "1.5.0",
          "model_name": "FloatProgressModel",
          "state": {
            "_dom_classes": [],
            "_model_module": "@jupyter-widgets/controls",
            "_model_module_version": "1.5.0",
            "_model_name": "FloatProgressModel",
            "_view_count": null,
            "_view_module": "@jupyter-widgets/controls",
            "_view_module_version": "1.5.0",
            "_view_name": "ProgressView",
            "bar_style": "success",
            "description": "",
            "description_tooltip": null,
            "layout": "IPY_MODEL_b1a89ec1408745af88f4fb6d474e0491",
            "max": 25000,
            "min": 0,
            "orientation": "horizontal",
            "style": "IPY_MODEL_bc8315e188704ab698231eddb3c68032",
            "value": 25000
          }
        },
        "3818968b5a244d8c9d5a5582272f47d0": {
          "model_module": "@jupyter-widgets/controls",
          "model_module_version": "1.5.0",
          "model_name": "HTMLModel",
          "state": {
            "_dom_classes": [],
            "_model_module": "@jupyter-widgets/controls",
            "_model_module_version": "1.5.0",
            "_model_name": "HTMLModel",
            "_view_count": null,
            "_view_module": "@jupyter-widgets/controls",
            "_view_module_version": "1.5.0",
            "_view_name": "HTMLView",
            "description": "",
            "description_tooltip": null,
            "layout": "IPY_MODEL_7d2df1eaa2db4cc399baf66e25cf0656",
            "placeholder": "​",
            "style": "IPY_MODEL_f09cd621b03946c88874a38ba91125f6",
            "value": "Downloading data: 100%"
          }
        },
        "3ad4e32041724d0ab92ac04b5297c14f": {
          "model_module": "@jupyter-widgets/controls",
          "model_module_version": "1.5.0",
          "model_name": "HTMLModel",
          "state": {
            "_dom_classes": [],
            "_model_module": "@jupyter-widgets/controls",
            "_model_module_version": "1.5.0",
            "_model_name": "HTMLModel",
            "_view_count": null,
            "_view_module": "@jupyter-widgets/controls",
            "_view_module_version": "1.5.0",
            "_view_name": "HTMLView",
            "description": "",
            "description_tooltip": null,
            "layout": "IPY_MODEL_af56782565e7429d8dd27de2c4845ace",
            "placeholder": "​",
            "style": "IPY_MODEL_abbb26c6d17442a3960a183c3e0301c0",
            "value": "Generating unsupervised split: 100%"
          }
        },
        "48b6c435492542f6b5419546ee915146": {
          "model_module": "@jupyter-widgets/controls",
          "model_module_version": "1.5.0",
          "model_name": "FloatProgressModel",
          "state": {
            "_dom_classes": [],
            "_model_module": "@jupyter-widgets/controls",
            "_model_module_version": "1.5.0",
            "_model_name": "FloatProgressModel",
            "_view_count": null,
            "_view_module": "@jupyter-widgets/controls",
            "_view_module_version": "1.5.0",
            "_view_name": "ProgressView",
            "bar_style": "success",
            "description": "",
            "description_tooltip": null,
            "layout": "IPY_MODEL_b2a8092a00a044968b4628aa458c9832",
            "max": 20979968,
            "min": 0,
            "orientation": "horizontal",
            "style": "IPY_MODEL_71ca3ba8232a40f18ec04b076992a8e7",
            "value": 20979968
          }
        },
        "5aaedfe285af425d9c230f3e78a21b56": {
          "model_module": "@jupyter-widgets/base",
          "model_module_version": "1.2.0",
          "model_name": "LayoutModel",
          "state": {
            "_model_module": "@jupyter-widgets/base",
            "_model_module_version": "1.2.0",
            "_model_name": "LayoutModel",
            "_view_count": null,
            "_view_module": "@jupyter-widgets/base",
            "_view_module_version": "1.2.0",
            "_view_name": "LayoutView",
            "align_content": null,
            "align_items": null,
            "align_self": null,
            "border": null,
            "bottom": null,
            "display": null,
            "flex": null,
            "flex_flow": null,
            "grid_area": null,
            "grid_auto_columns": null,
            "grid_auto_flow": null,
            "grid_auto_rows": null,
            "grid_column": null,
            "grid_gap": null,
            "grid_row": null,
            "grid_template_areas": null,
            "grid_template_columns": null,
            "grid_template_rows": null,
            "height": null,
            "justify_content": null,
            "justify_items": null,
            "left": null,
            "margin": null,
            "max_height": null,
            "max_width": null,
            "min_height": null,
            "min_width": null,
            "object_fit": null,
            "object_position": null,
            "order": null,
            "overflow": null,
            "overflow_x": null,
            "overflow_y": null,
            "padding": null,
            "right": null,
            "top": null,
            "visibility": null,
            "width": null
          }
        },
        "6448167e7f5a41f5b3ea3cdc4bbadf2d": {
          "model_module": "@jupyter-widgets/controls",
          "model_module_version": "1.5.0",
          "model_name": "DescriptionStyleModel",
          "state": {
            "_model_module": "@jupyter-widgets/controls",
            "_model_module_version": "1.5.0",
            "_model_name": "DescriptionStyleModel",
            "_view_count": null,
            "_view_module": "@jupyter-widgets/base",
            "_view_module_version": "1.2.0",
            "_view_name": "StyleView",
            "description_width": ""
          }
        },
        "65a9ff43c6a74fa39f4be7963c040e7a": {
          "model_module": "@jupyter-widgets/controls",
          "model_module_version": "1.5.0",
          "model_name": "FloatProgressModel",
          "state": {
            "_dom_classes": [],
            "_model_module": "@jupyter-widgets/controls",
            "_model_module_version": "1.5.0",
            "_model_name": "FloatProgressModel",
            "_view_count": null,
            "_view_module": "@jupyter-widgets/controls",
            "_view_module_version": "1.5.0",
            "_view_name": "ProgressView",
            "bar_style": "success",
            "description": "",
            "description_tooltip": null,
            "layout": "IPY_MODEL_037e343252ea41a2b59d717732aaf31c",
            "max": 7809,
            "min": 0,
            "orientation": "horizontal",
            "style": "IPY_MODEL_c814b5d8b92d4887aebff24d2735e391",
            "value": 7809
          }
        },
        "683c63e7f2784d0684fa6451d58c006c": {
          "model_module": "@jupyter-widgets/base",
          "model_module_version": "1.2.0",
          "model_name": "LayoutModel",
          "state": {
            "_model_module": "@jupyter-widgets/base",
            "_model_module_version": "1.2.0",
            "_model_name": "LayoutModel",
            "_view_count": null,
            "_view_module": "@jupyter-widgets/base",
            "_view_module_version": "1.2.0",
            "_view_name": "LayoutView",
            "align_content": null,
            "align_items": null,
            "align_self": null,
            "border": null,
            "bottom": null,
            "display": null,
            "flex": null,
            "flex_flow": null,
            "grid_area": null,
            "grid_auto_columns": null,
            "grid_auto_flow": null,
            "grid_auto_rows": null,
            "grid_column": null,
            "grid_gap": null,
            "grid_row": null,
            "grid_template_areas": null,
            "grid_template_columns": null,
            "grid_template_rows": null,
            "height": null,
            "justify_content": null,
            "justify_items": null,
            "left": null,
            "margin": null,
            "max_height": null,
            "max_width": null,
            "min_height": null,
            "min_width": null,
            "object_fit": null,
            "object_position": null,
            "order": null,
            "overflow": null,
            "overflow_x": null,
            "overflow_y": null,
            "padding": null,
            "right": null,
            "top": null,
            "visibility": null,
            "width": null
          }
        },
        "6f3bfd463cbc4489b13920200c111037": {
          "model_module": "@jupyter-widgets/controls",
          "model_module_version": "1.5.0",
          "model_name": "DescriptionStyleModel",
          "state": {
            "_model_module": "@jupyter-widgets/controls",
            "_model_module_version": "1.5.0",
            "_model_name": "DescriptionStyleModel",
            "_view_count": null,
            "_view_module": "@jupyter-widgets/base",
            "_view_module_version": "1.2.0",
            "_view_name": "StyleView",
            "description_width": ""
          }
        },
        "71ca3ba8232a40f18ec04b076992a8e7": {
          "model_module": "@jupyter-widgets/controls",
          "model_module_version": "1.5.0",
          "model_name": "ProgressStyleModel",
          "state": {
            "_model_module": "@jupyter-widgets/controls",
            "_model_module_version": "1.5.0",
            "_model_name": "ProgressStyleModel",
            "_view_count": null,
            "_view_module": "@jupyter-widgets/base",
            "_view_module_version": "1.2.0",
            "_view_name": "StyleView",
            "bar_color": null,
            "description_width": ""
          }
        },
        "76857aa0b19942d89742bbbe463381fc": {
          "model_module": "@jupyter-widgets/base",
          "model_module_version": "1.2.0",
          "model_name": "LayoutModel",
          "state": {
            "_model_module": "@jupyter-widgets/base",
            "_model_module_version": "1.2.0",
            "_model_name": "LayoutModel",
            "_view_count": null,
            "_view_module": "@jupyter-widgets/base",
            "_view_module_version": "1.2.0",
            "_view_name": "LayoutView",
            "align_content": null,
            "align_items": null,
            "align_self": null,
            "border": null,
            "bottom": null,
            "display": null,
            "flex": null,
            "flex_flow": null,
            "grid_area": null,
            "grid_auto_columns": null,
            "grid_auto_flow": null,
            "grid_auto_rows": null,
            "grid_column": null,
            "grid_gap": null,
            "grid_row": null,
            "grid_template_areas": null,
            "grid_template_columns": null,
            "grid_template_rows": null,
            "height": null,
            "justify_content": null,
            "justify_items": null,
            "left": null,
            "margin": null,
            "max_height": null,
            "max_width": null,
            "min_height": null,
            "min_width": null,
            "object_fit": null,
            "object_position": null,
            "order": null,
            "overflow": null,
            "overflow_x": null,
            "overflow_y": null,
            "padding": null,
            "right": null,
            "top": null,
            "visibility": null,
            "width": null
          }
        },
        "77fa40f86af34032bec4bd51f915b4ee": {
          "model_module": "@jupyter-widgets/controls",
          "model_module_version": "1.5.0",
          "model_name": "HBoxModel",
          "state": {
            "_dom_classes": [],
            "_model_module": "@jupyter-widgets/controls",
            "_model_module_version": "1.5.0",
            "_model_name": "HBoxModel",
            "_view_count": null,
            "_view_module": "@jupyter-widgets/controls",
            "_view_module_version": "1.5.0",
            "_view_name": "HBoxView",
            "box_style": "",
            "children": [
              "IPY_MODEL_c744c86e934a413a8525fc1373520e5e",
              "IPY_MODEL_21609958243041bd9499007684519bab",
              "IPY_MODEL_ae0bee79ea70436a979c111bcb00fb94"
            ],
            "layout": "IPY_MODEL_9043300d9f824d828e2b9196eb6fa28e"
          }
        },
        "7d2df1eaa2db4cc399baf66e25cf0656": {
          "model_module": "@jupyter-widgets/base",
          "model_module_version": "1.2.0",
          "model_name": "LayoutModel",
          "state": {
            "_model_module": "@jupyter-widgets/base",
            "_model_module_version": "1.2.0",
            "_model_name": "LayoutModel",
            "_view_count": null,
            "_view_module": "@jupyter-widgets/base",
            "_view_module_version": "1.2.0",
            "_view_name": "LayoutView",
            "align_content": null,
            "align_items": null,
            "align_self": null,
            "border": null,
            "bottom": null,
            "display": null,
            "flex": null,
            "flex_flow": null,
            "grid_area": null,
            "grid_auto_columns": null,
            "grid_auto_flow": null,
            "grid_auto_rows": null,
            "grid_column": null,
            "grid_gap": null,
            "grid_row": null,
            "grid_template_areas": null,
            "grid_template_columns": null,
            "grid_template_rows": null,
            "height": null,
            "justify_content": null,
            "justify_items": null,
            "left": null,
            "margin": null,
            "max_height": null,
            "max_width": null,
            "min_height": null,
            "min_width": null,
            "object_fit": null,
            "object_position": null,
            "order": null,
            "overflow": null,
            "overflow_x": null,
            "overflow_y": null,
            "padding": null,
            "right": null,
            "top": null,
            "visibility": null,
            "width": null
          }
        },
        "7f72ea99fbd04285a69e0fd73dfc79a5": {
          "model_module": "@jupyter-widgets/controls",
          "model_module_version": "1.5.0",
          "model_name": "HBoxModel",
          "state": {
            "_dom_classes": [],
            "_model_module": "@jupyter-widgets/controls",
            "_model_module_version": "1.5.0",
            "_model_name": "HBoxModel",
            "_view_count": null,
            "_view_module": "@jupyter-widgets/controls",
            "_view_module_version": "1.5.0",
            "_view_name": "HBoxView",
            "box_style": "",
            "children": [
              "IPY_MODEL_3ad4e32041724d0ab92ac04b5297c14f",
              "IPY_MODEL_2a33c51d796a4676bc713be9bfe90a1e",
              "IPY_MODEL_13770ff45c11453fb3adb58ced163854"
            ],
            "layout": "IPY_MODEL_c842141a547a44de8d31d61154e798d7"
          }
        },
        "833c0a7fa77e4674b555be910c1a1384": {
          "model_module": "@jupyter-widgets/base",
          "model_module_version": "1.2.0",
          "model_name": "LayoutModel",
          "state": {
            "_model_module": "@jupyter-widgets/base",
            "_model_module_version": "1.2.0",
            "_model_name": "LayoutModel",
            "_view_count": null,
            "_view_module": "@jupyter-widgets/base",
            "_view_module_version": "1.2.0",
            "_view_name": "LayoutView",
            "align_content": null,
            "align_items": null,
            "align_self": null,
            "border": null,
            "bottom": null,
            "display": null,
            "flex": null,
            "flex_flow": null,
            "grid_area": null,
            "grid_auto_columns": null,
            "grid_auto_flow": null,
            "grid_auto_rows": null,
            "grid_column": null,
            "grid_gap": null,
            "grid_row": null,
            "grid_template_areas": null,
            "grid_template_columns": null,
            "grid_template_rows": null,
            "height": null,
            "justify_content": null,
            "justify_items": null,
            "left": null,
            "margin": null,
            "max_height": null,
            "max_width": null,
            "min_height": null,
            "min_width": null,
            "object_fit": null,
            "object_position": null,
            "order": null,
            "overflow": null,
            "overflow_x": null,
            "overflow_y": null,
            "padding": null,
            "right": null,
            "top": null,
            "visibility": null,
            "width": null
          }
        },
        "861742694dc74de383d761a28f7f41b8": {
          "model_module": "@jupyter-widgets/base",
          "model_module_version": "1.2.0",
          "model_name": "LayoutModel",
          "state": {
            "_model_module": "@jupyter-widgets/base",
            "_model_module_version": "1.2.0",
            "_model_name": "LayoutModel",
            "_view_count": null,
            "_view_module": "@jupyter-widgets/base",
            "_view_module_version": "1.2.0",
            "_view_name": "LayoutView",
            "align_content": null,
            "align_items": null,
            "align_self": null,
            "border": null,
            "bottom": null,
            "display": null,
            "flex": null,
            "flex_flow": null,
            "grid_area": null,
            "grid_auto_columns": null,
            "grid_auto_flow": null,
            "grid_auto_rows": null,
            "grid_column": null,
            "grid_gap": null,
            "grid_row": null,
            "grid_template_areas": null,
            "grid_template_columns": null,
            "grid_template_rows": null,
            "height": null,
            "justify_content": null,
            "justify_items": null,
            "left": null,
            "margin": null,
            "max_height": null,
            "max_width": null,
            "min_height": null,
            "min_width": null,
            "object_fit": null,
            "object_position": null,
            "order": null,
            "overflow": null,
            "overflow_x": null,
            "overflow_y": null,
            "padding": null,
            "right": null,
            "top": null,
            "visibility": null,
            "width": null
          }
        },
        "88ef84b6d8864e27ba92b89978084bc8": {
          "model_module": "@jupyter-widgets/controls",
          "model_module_version": "1.5.0",
          "model_name": "HTMLModel",
          "state": {
            "_dom_classes": [],
            "_model_module": "@jupyter-widgets/controls",
            "_model_module_version": "1.5.0",
            "_model_name": "HTMLModel",
            "_view_count": null,
            "_view_module": "@jupyter-widgets/controls",
            "_view_module_version": "1.5.0",
            "_view_name": "HTMLView",
            "description": "",
            "description_tooltip": null,
            "layout": "IPY_MODEL_b720d7ab0de7436c9365183cee10659d",
            "placeholder": "​",
            "style": "IPY_MODEL_e063cd82c1fa4fd997dfabcd83cbc4d1",
            "value": "Generating test split: 100%"
          }
        },
        "9043300d9f824d828e2b9196eb6fa28e": {
          "model_module": "@jupyter-widgets/base",
          "model_module_version": "1.2.0",
          "model_name": "LayoutModel",
          "state": {
            "_model_module": "@jupyter-widgets/base",
            "_model_module_version": "1.2.0",
            "_model_name": "LayoutModel",
            "_view_count": null,
            "_view_module": "@jupyter-widgets/base",
            "_view_module_version": "1.2.0",
            "_view_name": "LayoutView",
            "align_content": null,
            "align_items": null,
            "align_self": null,
            "border": null,
            "bottom": null,
            "display": null,
            "flex": null,
            "flex_flow": null,
            "grid_area": null,
            "grid_auto_columns": null,
            "grid_auto_flow": null,
            "grid_auto_rows": null,
            "grid_column": null,
            "grid_gap": null,
            "grid_row": null,
            "grid_template_areas": null,
            "grid_template_columns": null,
            "grid_template_rows": null,
            "height": null,
            "justify_content": null,
            "justify_items": null,
            "left": null,
            "margin": null,
            "max_height": null,
            "max_width": null,
            "min_height": null,
            "min_width": null,
            "object_fit": null,
            "object_position": null,
            "order": null,
            "overflow": null,
            "overflow_x": null,
            "overflow_y": null,
            "padding": null,
            "right": null,
            "top": null,
            "visibility": null,
            "width": null
          }
        },
        "90c9fca52e26453788b0a692aa74c2cf": {
          "model_module": "@jupyter-widgets/controls",
          "model_module_version": "1.5.0",
          "model_name": "FloatProgressModel",
          "state": {
            "_dom_classes": [],
            "_model_module": "@jupyter-widgets/controls",
            "_model_module_version": "1.5.0",
            "_model_name": "FloatProgressModel",
            "_view_count": null,
            "_view_module": "@jupyter-widgets/controls",
            "_view_module_version": "1.5.0",
            "_view_name": "ProgressView",
            "bar_style": "success",
            "description": "",
            "description_tooltip": null,
            "layout": "IPY_MODEL_2bc9b1a266b7488d9271e72aaff4de92",
            "max": 25000,
            "min": 0,
            "orientation": "horizontal",
            "style": "IPY_MODEL_ffbceec5fbff4958b06cc0a203c58f49",
            "value": 25000
          }
        },
        "9e443582cb8c4a378c055268e1a1c55f": {
          "model_module": "@jupyter-widgets/base",
          "model_module_version": "1.2.0",
          "model_name": "LayoutModel",
          "state": {
            "_model_module": "@jupyter-widgets/base",
            "_model_module_version": "1.2.0",
            "_model_name": "LayoutModel",
            "_view_count": null,
            "_view_module": "@jupyter-widgets/base",
            "_view_module_version": "1.2.0",
            "_view_name": "LayoutView",
            "align_content": null,
            "align_items": null,
            "align_self": null,
            "border": null,
            "bottom": null,
            "display": null,
            "flex": null,
            "flex_flow": null,
            "grid_area": null,
            "grid_auto_columns": null,
            "grid_auto_flow": null,
            "grid_auto_rows": null,
            "grid_column": null,
            "grid_gap": null,
            "grid_row": null,
            "grid_template_areas": null,
            "grid_template_columns": null,
            "grid_template_rows": null,
            "height": null,
            "justify_content": null,
            "justify_items": null,
            "left": null,
            "margin": null,
            "max_height": null,
            "max_width": null,
            "min_height": null,
            "min_width": null,
            "object_fit": null,
            "object_position": null,
            "order": null,
            "overflow": null,
            "overflow_x": null,
            "overflow_y": null,
            "padding": null,
            "right": null,
            "top": null,
            "visibility": null,
            "width": null
          }
        },
        "a42bfbf364a44732bf7328e13071f8bc": {
          "model_module": "@jupyter-widgets/controls",
          "model_module_version": "1.5.0",
          "model_name": "HBoxModel",
          "state": {
            "_dom_classes": [],
            "_model_module": "@jupyter-widgets/controls",
            "_model_module_version": "1.5.0",
            "_model_name": "HBoxModel",
            "_view_count": null,
            "_view_module": "@jupyter-widgets/controls",
            "_view_module_version": "1.5.0",
            "_view_name": "HBoxView",
            "box_style": "",
            "children": [
              "IPY_MODEL_13bd14e908da4387b13fb1565c507c3b",
              "IPY_MODEL_48b6c435492542f6b5419546ee915146",
              "IPY_MODEL_ec1339e9294d460fbdf7c924f112d105"
            ],
            "layout": "IPY_MODEL_861742694dc74de383d761a28f7f41b8"
          }
        },
        "aaaaf486c915421a9602272564c346f7": {
          "model_module": "@jupyter-widgets/base",
          "model_module_version": "1.2.0",
          "model_name": "LayoutModel",
          "state": {
            "_model_module": "@jupyter-widgets/base",
            "_model_module_version": "1.2.0",
            "_model_name": "LayoutModel",
            "_view_count": null,
            "_view_module": "@jupyter-widgets/base",
            "_view_module_version": "1.2.0",
            "_view_name": "LayoutView",
            "align_content": null,
            "align_items": null,
            "align_self": null,
            "border": null,
            "bottom": null,
            "display": null,
            "flex": null,
            "flex_flow": null,
            "grid_area": null,
            "grid_auto_columns": null,
            "grid_auto_flow": null,
            "grid_auto_rows": null,
            "grid_column": null,
            "grid_gap": null,
            "grid_row": null,
            "grid_template_areas": null,
            "grid_template_columns": null,
            "grid_template_rows": null,
            "height": null,
            "justify_content": null,
            "justify_items": null,
            "left": null,
            "margin": null,
            "max_height": null,
            "max_width": null,
            "min_height": null,
            "min_width": null,
            "object_fit": null,
            "object_position": null,
            "order": null,
            "overflow": null,
            "overflow_x": null,
            "overflow_y": null,
            "padding": null,
            "right": null,
            "top": null,
            "visibility": null,
            "width": null
          }
        },
        "abbb26c6d17442a3960a183c3e0301c0": {
          "model_module": "@jupyter-widgets/controls",
          "model_module_version": "1.5.0",
          "model_name": "DescriptionStyleModel",
          "state": {
            "_model_module": "@jupyter-widgets/controls",
            "_model_module_version": "1.5.0",
            "_model_name": "DescriptionStyleModel",
            "_view_count": null,
            "_view_module": "@jupyter-widgets/base",
            "_view_module_version": "1.2.0",
            "_view_name": "StyleView",
            "description_width": ""
          }
        },
        "ae0bee79ea70436a979c111bcb00fb94": {
          "model_module": "@jupyter-widgets/controls",
          "model_module_version": "1.5.0",
          "model_name": "HTMLModel",
          "state": {
            "_dom_classes": [],
            "_model_module": "@jupyter-widgets/controls",
            "_model_module_version": "1.5.0",
            "_model_name": "HTMLModel",
            "_view_count": null,
            "_view_module": "@jupyter-widgets/controls",
            "_view_module_version": "1.5.0",
            "_view_name": "HTMLView",
            "description": "",
            "description_tooltip": null,
            "layout": "IPY_MODEL_5aaedfe285af425d9c230f3e78a21b56",
            "placeholder": "​",
            "style": "IPY_MODEL_1c7413877f14406f818e7083f5279ed1",
            "value": " 20.5M/20.5M [00:00&lt;00:00, 31.7MB/s]"
          }
        },
        "aed838957c5544bbaa027aa295cdaa78": {
          "model_module": "@jupyter-widgets/base",
          "model_module_version": "1.2.0",
          "model_name": "LayoutModel",
          "state": {
            "_model_module": "@jupyter-widgets/base",
            "_model_module_version": "1.2.0",
            "_model_name": "LayoutModel",
            "_view_count": null,
            "_view_module": "@jupyter-widgets/base",
            "_view_module_version": "1.2.0",
            "_view_name": "LayoutView",
            "align_content": null,
            "align_items": null,
            "align_self": null,
            "border": null,
            "bottom": null,
            "display": null,
            "flex": null,
            "flex_flow": null,
            "grid_area": null,
            "grid_auto_columns": null,
            "grid_auto_flow": null,
            "grid_auto_rows": null,
            "grid_column": null,
            "grid_gap": null,
            "grid_row": null,
            "grid_template_areas": null,
            "grid_template_columns": null,
            "grid_template_rows": null,
            "height": null,
            "justify_content": null,
            "justify_items": null,
            "left": null,
            "margin": null,
            "max_height": null,
            "max_width": null,
            "min_height": null,
            "min_width": null,
            "object_fit": null,
            "object_position": null,
            "order": null,
            "overflow": null,
            "overflow_x": null,
            "overflow_y": null,
            "padding": null,
            "right": null,
            "top": null,
            "visibility": null,
            "width": null
          }
        },
        "af56782565e7429d8dd27de2c4845ace": {
          "model_module": "@jupyter-widgets/base",
          "model_module_version": "1.2.0",
          "model_name": "LayoutModel",
          "state": {
            "_model_module": "@jupyter-widgets/base",
            "_model_module_version": "1.2.0",
            "_model_name": "LayoutModel",
            "_view_count": null,
            "_view_module": "@jupyter-widgets/base",
            "_view_module_version": "1.2.0",
            "_view_name": "LayoutView",
            "align_content": null,
            "align_items": null,
            "align_self": null,
            "border": null,
            "bottom": null,
            "display": null,
            "flex": null,
            "flex_flow": null,
            "grid_area": null,
            "grid_auto_columns": null,
            "grid_auto_flow": null,
            "grid_auto_rows": null,
            "grid_column": null,
            "grid_gap": null,
            "grid_row": null,
            "grid_template_areas": null,
            "grid_template_columns": null,
            "grid_template_rows": null,
            "height": null,
            "justify_content": null,
            "justify_items": null,
            "left": null,
            "margin": null,
            "max_height": null,
            "max_width": null,
            "min_height": null,
            "min_width": null,
            "object_fit": null,
            "object_position": null,
            "order": null,
            "overflow": null,
            "overflow_x": null,
            "overflow_y": null,
            "padding": null,
            "right": null,
            "top": null,
            "visibility": null,
            "width": null
          }
        },
        "b1a89ec1408745af88f4fb6d474e0491": {
          "model_module": "@jupyter-widgets/base",
          "model_module_version": "1.2.0",
          "model_name": "LayoutModel",
          "state": {
            "_model_module": "@jupyter-widgets/base",
            "_model_module_version": "1.2.0",
            "_model_name": "LayoutModel",
            "_view_count": null,
            "_view_module": "@jupyter-widgets/base",
            "_view_module_version": "1.2.0",
            "_view_name": "LayoutView",
            "align_content": null,
            "align_items": null,
            "align_self": null,
            "border": null,
            "bottom": null,
            "display": null,
            "flex": null,
            "flex_flow": null,
            "grid_area": null,
            "grid_auto_columns": null,
            "grid_auto_flow": null,
            "grid_auto_rows": null,
            "grid_column": null,
            "grid_gap": null,
            "grid_row": null,
            "grid_template_areas": null,
            "grid_template_columns": null,
            "grid_template_rows": null,
            "height": null,
            "justify_content": null,
            "justify_items": null,
            "left": null,
            "margin": null,
            "max_height": null,
            "max_width": null,
            "min_height": null,
            "min_width": null,
            "object_fit": null,
            "object_position": null,
            "order": null,
            "overflow": null,
            "overflow_x": null,
            "overflow_y": null,
            "padding": null,
            "right": null,
            "top": null,
            "visibility": null,
            "width": null
          }
        },
        "b2a8092a00a044968b4628aa458c9832": {
          "model_module": "@jupyter-widgets/base",
          "model_module_version": "1.2.0",
          "model_name": "LayoutModel",
          "state": {
            "_model_module": "@jupyter-widgets/base",
            "_model_module_version": "1.2.0",
            "_model_name": "LayoutModel",
            "_view_count": null,
            "_view_module": "@jupyter-widgets/base",
            "_view_module_version": "1.2.0",
            "_view_name": "LayoutView",
            "align_content": null,
            "align_items": null,
            "align_self": null,
            "border": null,
            "bottom": null,
            "display": null,
            "flex": null,
            "flex_flow": null,
            "grid_area": null,
            "grid_auto_columns": null,
            "grid_auto_flow": null,
            "grid_auto_rows": null,
            "grid_column": null,
            "grid_gap": null,
            "grid_row": null,
            "grid_template_areas": null,
            "grid_template_columns": null,
            "grid_template_rows": null,
            "height": null,
            "justify_content": null,
            "justify_items": null,
            "left": null,
            "margin": null,
            "max_height": null,
            "max_width": null,
            "min_height": null,
            "min_width": null,
            "object_fit": null,
            "object_position": null,
            "order": null,
            "overflow": null,
            "overflow_x": null,
            "overflow_y": null,
            "padding": null,
            "right": null,
            "top": null,
            "visibility": null,
            "width": null
          }
        },
        "b4dc3fdb40f94a0e868cb1ebbfd59a6d": {
          "model_module": "@jupyter-widgets/base",
          "model_module_version": "1.2.0",
          "model_name": "LayoutModel",
          "state": {
            "_model_module": "@jupyter-widgets/base",
            "_model_module_version": "1.2.0",
            "_model_name": "LayoutModel",
            "_view_count": null,
            "_view_module": "@jupyter-widgets/base",
            "_view_module_version": "1.2.0",
            "_view_name": "LayoutView",
            "align_content": null,
            "align_items": null,
            "align_self": null,
            "border": null,
            "bottom": null,
            "display": null,
            "flex": null,
            "flex_flow": null,
            "grid_area": null,
            "grid_auto_columns": null,
            "grid_auto_flow": null,
            "grid_auto_rows": null,
            "grid_column": null,
            "grid_gap": null,
            "grid_row": null,
            "grid_template_areas": null,
            "grid_template_columns": null,
            "grid_template_rows": null,
            "height": null,
            "justify_content": null,
            "justify_items": null,
            "left": null,
            "margin": null,
            "max_height": null,
            "max_width": null,
            "min_height": null,
            "min_width": null,
            "object_fit": null,
            "object_position": null,
            "order": null,
            "overflow": null,
            "overflow_x": null,
            "overflow_y": null,
            "padding": null,
            "right": null,
            "top": null,
            "visibility": null,
            "width": null
          }
        },
        "b720d7ab0de7436c9365183cee10659d": {
          "model_module": "@jupyter-widgets/base",
          "model_module_version": "1.2.0",
          "model_name": "LayoutModel",
          "state": {
            "_model_module": "@jupyter-widgets/base",
            "_model_module_version": "1.2.0",
            "_model_name": "LayoutModel",
            "_view_count": null,
            "_view_module": "@jupyter-widgets/base",
            "_view_module_version": "1.2.0",
            "_view_name": "LayoutView",
            "align_content": null,
            "align_items": null,
            "align_self": null,
            "border": null,
            "bottom": null,
            "display": null,
            "flex": null,
            "flex_flow": null,
            "grid_area": null,
            "grid_auto_columns": null,
            "grid_auto_flow": null,
            "grid_auto_rows": null,
            "grid_column": null,
            "grid_gap": null,
            "grid_row": null,
            "grid_template_areas": null,
            "grid_template_columns": null,
            "grid_template_rows": null,
            "height": null,
            "justify_content": null,
            "justify_items": null,
            "left": null,
            "margin": null,
            "max_height": null,
            "max_width": null,
            "min_height": null,
            "min_width": null,
            "object_fit": null,
            "object_position": null,
            "order": null,
            "overflow": null,
            "overflow_x": null,
            "overflow_y": null,
            "padding": null,
            "right": null,
            "top": null,
            "visibility": null,
            "width": null
          }
        },
        "b8d7504657a8476286b831615f7b1bbf": {
          "model_module": "@jupyter-widgets/controls",
          "model_module_version": "1.5.0",
          "model_name": "ProgressStyleModel",
          "state": {
            "_model_module": "@jupyter-widgets/controls",
            "_model_module_version": "1.5.0",
            "_model_name": "ProgressStyleModel",
            "_view_count": null,
            "_view_module": "@jupyter-widgets/base",
            "_view_module_version": "1.2.0",
            "_view_name": "StyleView",
            "bar_color": null,
            "description_width": ""
          }
        },
        "bc8315e188704ab698231eddb3c68032": {
          "model_module": "@jupyter-widgets/controls",
          "model_module_version": "1.5.0",
          "model_name": "ProgressStyleModel",
          "state": {
            "_model_module": "@jupyter-widgets/controls",
            "_model_module_version": "1.5.0",
            "_model_name": "ProgressStyleModel",
            "_view_count": null,
            "_view_module": "@jupyter-widgets/base",
            "_view_module_version": "1.2.0",
            "_view_name": "StyleView",
            "bar_color": null,
            "description_width": ""
          }
        },
        "c2b5b182dfee493f93520a557d444426": {
          "model_module": "@jupyter-widgets/controls",
          "model_module_version": "1.5.0",
          "model_name": "FloatProgressModel",
          "state": {
            "_dom_classes": [],
            "_model_module": "@jupyter-widgets/controls",
            "_model_module_version": "1.5.0",
            "_model_name": "FloatProgressModel",
            "_view_count": null,
            "_view_module": "@jupyter-widgets/controls",
            "_view_module_version": "1.5.0",
            "_view_name": "ProgressView",
            "bar_style": "success",
            "description": "",
            "description_tooltip": null,
            "layout": "IPY_MODEL_76857aa0b19942d89742bbbe463381fc",
            "max": 41996509,
            "min": 0,
            "orientation": "horizontal",
            "style": "IPY_MODEL_f4f928fab615449e8803c76d2b76c111",
            "value": 41996509
          }
        },
        "c2ec4b472f344f25a57d381e38cacf76": {
          "model_module": "@jupyter-widgets/controls",
          "model_module_version": "1.5.0",
          "model_name": "HBoxModel",
          "state": {
            "_dom_classes": [],
            "_model_module": "@jupyter-widgets/controls",
            "_model_module_version": "1.5.0",
            "_model_name": "HBoxModel",
            "_view_count": null,
            "_view_module": "@jupyter-widgets/controls",
            "_view_module_version": "1.5.0",
            "_view_name": "HBoxView",
            "box_style": "",
            "children": [
              "IPY_MODEL_fbe1ff2afa4d4fddb4deb0d0935b6898",
              "IPY_MODEL_65a9ff43c6a74fa39f4be7963c040e7a",
              "IPY_MODEL_e2383d477c6148ff9a358eb722e1b57a"
            ],
            "layout": "IPY_MODEL_9e443582cb8c4a378c055268e1a1c55f"
          }
        },
        "c5e4874650e3419eb882eee73af56e68": {
          "model_module": "@jupyter-widgets/base",
          "model_module_version": "1.2.0",
          "model_name": "LayoutModel",
          "state": {
            "_model_module": "@jupyter-widgets/base",
            "_model_module_version": "1.2.0",
            "_model_name": "LayoutModel",
            "_view_count": null,
            "_view_module": "@jupyter-widgets/base",
            "_view_module_version": "1.2.0",
            "_view_name": "LayoutView",
            "align_content": null,
            "align_items": null,
            "align_self": null,
            "border": null,
            "bottom": null,
            "display": null,
            "flex": null,
            "flex_flow": null,
            "grid_area": null,
            "grid_auto_columns": null,
            "grid_auto_flow": null,
            "grid_auto_rows": null,
            "grid_column": null,
            "grid_gap": null,
            "grid_row": null,
            "grid_template_areas": null,
            "grid_template_columns": null,
            "grid_template_rows": null,
            "height": null,
            "justify_content": null,
            "justify_items": null,
            "left": null,
            "margin": null,
            "max_height": null,
            "max_width": null,
            "min_height": null,
            "min_width": null,
            "object_fit": null,
            "object_position": null,
            "order": null,
            "overflow": null,
            "overflow_x": null,
            "overflow_y": null,
            "padding": null,
            "right": null,
            "top": null,
            "visibility": null,
            "width": null
          }
        },
        "c744c86e934a413a8525fc1373520e5e": {
          "model_module": "@jupyter-widgets/controls",
          "model_module_version": "1.5.0",
          "model_name": "HTMLModel",
          "state": {
            "_dom_classes": [],
            "_model_module": "@jupyter-widgets/controls",
            "_model_module_version": "1.5.0",
            "_model_name": "HTMLModel",
            "_view_count": null,
            "_view_module": "@jupyter-widgets/controls",
            "_view_module_version": "1.5.0",
            "_view_name": "HTMLView",
            "description": "",
            "description_tooltip": null,
            "layout": "IPY_MODEL_d6a0e81b862c4d55882eb0e53fe64bcf",
            "placeholder": "​",
            "style": "IPY_MODEL_d4531f7461e0485392e9927b8c1a4a08",
            "value": "Downloading data: 100%"
          }
        },
        "c814b5d8b92d4887aebff24d2735e391": {
          "model_module": "@jupyter-widgets/controls",
          "model_module_version": "1.5.0",
          "model_name": "ProgressStyleModel",
          "state": {
            "_model_module": "@jupyter-widgets/controls",
            "_model_module_version": "1.5.0",
            "_model_name": "ProgressStyleModel",
            "_view_count": null,
            "_view_module": "@jupyter-widgets/base",
            "_view_module_version": "1.2.0",
            "_view_name": "StyleView",
            "bar_color": null,
            "description_width": ""
          }
        },
        "c842141a547a44de8d31d61154e798d7": {
          "model_module": "@jupyter-widgets/base",
          "model_module_version": "1.2.0",
          "model_name": "LayoutModel",
          "state": {
            "_model_module": "@jupyter-widgets/base",
            "_model_module_version": "1.2.0",
            "_model_name": "LayoutModel",
            "_view_count": null,
            "_view_module": "@jupyter-widgets/base",
            "_view_module_version": "1.2.0",
            "_view_name": "LayoutView",
            "align_content": null,
            "align_items": null,
            "align_self": null,
            "border": null,
            "bottom": null,
            "display": null,
            "flex": null,
            "flex_flow": null,
            "grid_area": null,
            "grid_auto_columns": null,
            "grid_auto_flow": null,
            "grid_auto_rows": null,
            "grid_column": null,
            "grid_gap": null,
            "grid_row": null,
            "grid_template_areas": null,
            "grid_template_columns": null,
            "grid_template_rows": null,
            "height": null,
            "justify_content": null,
            "justify_items": null,
            "left": null,
            "margin": null,
            "max_height": null,
            "max_width": null,
            "min_height": null,
            "min_width": null,
            "object_fit": null,
            "object_position": null,
            "order": null,
            "overflow": null,
            "overflow_x": null,
            "overflow_y": null,
            "padding": null,
            "right": null,
            "top": null,
            "visibility": null,
            "width": null
          }
        },
        "c956f00a6897441eaae056a722e2a800": {
          "model_module": "@jupyter-widgets/controls",
          "model_module_version": "1.5.0",
          "model_name": "HBoxModel",
          "state": {
            "_dom_classes": [],
            "_model_module": "@jupyter-widgets/controls",
            "_model_module_version": "1.5.0",
            "_model_name": "HBoxModel",
            "_view_count": null,
            "_view_module": "@jupyter-widgets/controls",
            "_view_module_version": "1.5.0",
            "_view_name": "HBoxView",
            "box_style": "",
            "children": [
              "IPY_MODEL_3818968b5a244d8c9d5a5582272f47d0",
              "IPY_MODEL_c2b5b182dfee493f93520a557d444426",
              "IPY_MODEL_32f6e372a3494146aefdcbcc366d4472"
            ],
            "layout": "IPY_MODEL_33945dfffb734491ba39b945e7f3f7a4"
          }
        },
        "d4531f7461e0485392e9927b8c1a4a08": {
          "model_module": "@jupyter-widgets/controls",
          "model_module_version": "1.5.0",
          "model_name": "DescriptionStyleModel",
          "state": {
            "_model_module": "@jupyter-widgets/controls",
            "_model_module_version": "1.5.0",
            "_model_name": "DescriptionStyleModel",
            "_view_count": null,
            "_view_module": "@jupyter-widgets/base",
            "_view_module_version": "1.2.0",
            "_view_name": "StyleView",
            "description_width": ""
          }
        },
        "d6a0e81b862c4d55882eb0e53fe64bcf": {
          "model_module": "@jupyter-widgets/base",
          "model_module_version": "1.2.0",
          "model_name": "LayoutModel",
          "state": {
            "_model_module": "@jupyter-widgets/base",
            "_model_module_version": "1.2.0",
            "_model_name": "LayoutModel",
            "_view_count": null,
            "_view_module": "@jupyter-widgets/base",
            "_view_module_version": "1.2.0",
            "_view_name": "LayoutView",
            "align_content": null,
            "align_items": null,
            "align_self": null,
            "border": null,
            "bottom": null,
            "display": null,
            "flex": null,
            "flex_flow": null,
            "grid_area": null,
            "grid_auto_columns": null,
            "grid_auto_flow": null,
            "grid_auto_rows": null,
            "grid_column": null,
            "grid_gap": null,
            "grid_row": null,
            "grid_template_areas": null,
            "grid_template_columns": null,
            "grid_template_rows": null,
            "height": null,
            "justify_content": null,
            "justify_items": null,
            "left": null,
            "margin": null,
            "max_height": null,
            "max_width": null,
            "min_height": null,
            "min_width": null,
            "object_fit": null,
            "object_position": null,
            "order": null,
            "overflow": null,
            "overflow_x": null,
            "overflow_y": null,
            "padding": null,
            "right": null,
            "top": null,
            "visibility": null,
            "width": null
          }
        },
        "d8dc85f3ea2e45658a3c27060d2eab81": {
          "model_module": "@jupyter-widgets/controls",
          "model_module_version": "1.5.0",
          "model_name": "ProgressStyleModel",
          "state": {
            "_model_module": "@jupyter-widgets/controls",
            "_model_module_version": "1.5.0",
            "_model_name": "ProgressStyleModel",
            "_view_count": null,
            "_view_module": "@jupyter-widgets/base",
            "_view_module_version": "1.2.0",
            "_view_name": "StyleView",
            "bar_color": null,
            "description_width": ""
          }
        },
        "db428e314f1b4c75a87d036efaa4707a": {
          "model_module": "@jupyter-widgets/controls",
          "model_module_version": "1.5.0",
          "model_name": "DescriptionStyleModel",
          "state": {
            "_model_module": "@jupyter-widgets/controls",
            "_model_module_version": "1.5.0",
            "_model_name": "DescriptionStyleModel",
            "_view_count": null,
            "_view_module": "@jupyter-widgets/base",
            "_view_module_version": "1.2.0",
            "_view_name": "StyleView",
            "description_width": ""
          }
        },
        "e063cd82c1fa4fd997dfabcd83cbc4d1": {
          "model_module": "@jupyter-widgets/controls",
          "model_module_version": "1.5.0",
          "model_name": "DescriptionStyleModel",
          "state": {
            "_model_module": "@jupyter-widgets/controls",
            "_model_module_version": "1.5.0",
            "_model_name": "DescriptionStyleModel",
            "_view_count": null,
            "_view_module": "@jupyter-widgets/base",
            "_view_module_version": "1.2.0",
            "_view_name": "StyleView",
            "description_width": ""
          }
        },
        "e18b133991c34b8385fa37348ee2715a": {
          "model_module": "@jupyter-widgets/base",
          "model_module_version": "1.2.0",
          "model_name": "LayoutModel",
          "state": {
            "_model_module": "@jupyter-widgets/base",
            "_model_module_version": "1.2.0",
            "_model_name": "LayoutModel",
            "_view_count": null,
            "_view_module": "@jupyter-widgets/base",
            "_view_module_version": "1.2.0",
            "_view_name": "LayoutView",
            "align_content": null,
            "align_items": null,
            "align_self": null,
            "border": null,
            "bottom": null,
            "display": null,
            "flex": null,
            "flex_flow": null,
            "grid_area": null,
            "grid_auto_columns": null,
            "grid_auto_flow": null,
            "grid_auto_rows": null,
            "grid_column": null,
            "grid_gap": null,
            "grid_row": null,
            "grid_template_areas": null,
            "grid_template_columns": null,
            "grid_template_rows": null,
            "height": null,
            "justify_content": null,
            "justify_items": null,
            "left": null,
            "margin": null,
            "max_height": null,
            "max_width": null,
            "min_height": null,
            "min_width": null,
            "object_fit": null,
            "object_position": null,
            "order": null,
            "overflow": null,
            "overflow_x": null,
            "overflow_y": null,
            "padding": null,
            "right": null,
            "top": null,
            "visibility": null,
            "width": null
          }
        },
        "e2383d477c6148ff9a358eb722e1b57a": {
          "model_module": "@jupyter-widgets/controls",
          "model_module_version": "1.5.0",
          "model_name": "HTMLModel",
          "state": {
            "_dom_classes": [],
            "_model_module": "@jupyter-widgets/controls",
            "_model_module_version": "1.5.0",
            "_model_name": "HTMLModel",
            "_view_count": null,
            "_view_module": "@jupyter-widgets/controls",
            "_view_module_version": "1.5.0",
            "_view_name": "HTMLView",
            "description": "",
            "description_tooltip": null,
            "layout": "IPY_MODEL_aaaaf486c915421a9602272564c346f7",
            "placeholder": "​",
            "style": "IPY_MODEL_347129e67dd14b669841cbc0a405ce2f",
            "value": " 7.81k/7.81k [00:00&lt;00:00, 147kB/s]"
          }
        },
        "e321facb9793445f93f05230a4067a89": {
          "model_module": "@jupyter-widgets/controls",
          "model_module_version": "1.5.0",
          "model_name": "DescriptionStyleModel",
          "state": {
            "_model_module": "@jupyter-widgets/controls",
            "_model_module_version": "1.5.0",
            "_model_name": "DescriptionStyleModel",
            "_view_count": null,
            "_view_module": "@jupyter-widgets/base",
            "_view_module_version": "1.2.0",
            "_view_name": "StyleView",
            "description_width": ""
          }
        },
        "e3ab6ed51b754fb1951b58ae7c5b26e0": {
          "model_module": "@jupyter-widgets/controls",
          "model_module_version": "1.5.0",
          "model_name": "DescriptionStyleModel",
          "state": {
            "_model_module": "@jupyter-widgets/controls",
            "_model_module_version": "1.5.0",
            "_model_name": "DescriptionStyleModel",
            "_view_count": null,
            "_view_module": "@jupyter-widgets/base",
            "_view_module_version": "1.2.0",
            "_view_name": "StyleView",
            "description_width": ""
          }
        },
        "e79eecafecaf4b0fa57cceaf6645064c": {
          "model_module": "@jupyter-widgets/controls",
          "model_module_version": "1.5.0",
          "model_name": "HTMLModel",
          "state": {
            "_dom_classes": [],
            "_model_module": "@jupyter-widgets/controls",
            "_model_module_version": "1.5.0",
            "_model_name": "HTMLModel",
            "_view_count": null,
            "_view_module": "@jupyter-widgets/controls",
            "_view_module_version": "1.5.0",
            "_view_name": "HTMLView",
            "description": "",
            "description_tooltip": null,
            "layout": "IPY_MODEL_b4dc3fdb40f94a0e868cb1ebbfd59a6d",
            "placeholder": "​",
            "style": "IPY_MODEL_6448167e7f5a41f5b3ea3cdc4bbadf2d",
            "value": "Generating train split: 100%"
          }
        },
        "ec1339e9294d460fbdf7c924f112d105": {
          "model_module": "@jupyter-widgets/controls",
          "model_module_version": "1.5.0",
          "model_name": "HTMLModel",
          "state": {
            "_dom_classes": [],
            "_model_module": "@jupyter-widgets/controls",
            "_model_module_version": "1.5.0",
            "_model_name": "HTMLModel",
            "_view_count": null,
            "_view_module": "@jupyter-widgets/controls",
            "_view_module_version": "1.5.0",
            "_view_name": "HTMLView",
            "description": "",
            "description_tooltip": null,
            "layout": "IPY_MODEL_aed838957c5544bbaa027aa295cdaa78",
            "placeholder": "​",
            "style": "IPY_MODEL_6f3bfd463cbc4489b13920200c111037",
            "value": " 21.0M/21.0M [00:01&lt;00:00, 24.4MB/s]"
          }
        },
        "ed8e4cf768e84fea871ce81c6d6d2643": {
          "model_module": "@jupyter-widgets/base",
          "model_module_version": "1.2.0",
          "model_name": "LayoutModel",
          "state": {
            "_model_module": "@jupyter-widgets/base",
            "_model_module_version": "1.2.0",
            "_model_name": "LayoutModel",
            "_view_count": null,
            "_view_module": "@jupyter-widgets/base",
            "_view_module_version": "1.2.0",
            "_view_name": "LayoutView",
            "align_content": null,
            "align_items": null,
            "align_self": null,
            "border": null,
            "bottom": null,
            "display": null,
            "flex": null,
            "flex_flow": null,
            "grid_area": null,
            "grid_auto_columns": null,
            "grid_auto_flow": null,
            "grid_auto_rows": null,
            "grid_column": null,
            "grid_gap": null,
            "grid_row": null,
            "grid_template_areas": null,
            "grid_template_columns": null,
            "grid_template_rows": null,
            "height": null,
            "justify_content": null,
            "justify_items": null,
            "left": null,
            "margin": null,
            "max_height": null,
            "max_width": null,
            "min_height": null,
            "min_width": null,
            "object_fit": null,
            "object_position": null,
            "order": null,
            "overflow": null,
            "overflow_x": null,
            "overflow_y": null,
            "padding": null,
            "right": null,
            "top": null,
            "visibility": null,
            "width": null
          }
        },
        "f09cd621b03946c88874a38ba91125f6": {
          "model_module": "@jupyter-widgets/controls",
          "model_module_version": "1.5.0",
          "model_name": "DescriptionStyleModel",
          "state": {
            "_model_module": "@jupyter-widgets/controls",
            "_model_module_version": "1.5.0",
            "_model_name": "DescriptionStyleModel",
            "_view_count": null,
            "_view_module": "@jupyter-widgets/base",
            "_view_module_version": "1.2.0",
            "_view_name": "StyleView",
            "description_width": ""
          }
        },
        "f4f928fab615449e8803c76d2b76c111": {
          "model_module": "@jupyter-widgets/controls",
          "model_module_version": "1.5.0",
          "model_name": "ProgressStyleModel",
          "state": {
            "_model_module": "@jupyter-widgets/controls",
            "_model_module_version": "1.5.0",
            "_model_name": "ProgressStyleModel",
            "_view_count": null,
            "_view_module": "@jupyter-widgets/base",
            "_view_module_version": "1.2.0",
            "_view_name": "StyleView",
            "bar_color": null,
            "description_width": ""
          }
        },
        "fbe1ff2afa4d4fddb4deb0d0935b6898": {
          "model_module": "@jupyter-widgets/controls",
          "model_module_version": "1.5.0",
          "model_name": "HTMLModel",
          "state": {
            "_dom_classes": [],
            "_model_module": "@jupyter-widgets/controls",
            "_model_module_version": "1.5.0",
            "_model_name": "HTMLModel",
            "_view_count": null,
            "_view_module": "@jupyter-widgets/controls",
            "_view_module_version": "1.5.0",
            "_view_name": "HTMLView",
            "description": "",
            "description_tooltip": null,
            "layout": "IPY_MODEL_09fe9d67642a4ffe986b61279db3e28a",
            "placeholder": "​",
            "style": "IPY_MODEL_330b5ba9724640128ba49b5a10ee608b",
            "value": "Downloading readme: 100%"
          }
        },
        "ffbceec5fbff4958b06cc0a203c58f49": {
          "model_module": "@jupyter-widgets/controls",
          "model_module_version": "1.5.0",
          "model_name": "ProgressStyleModel",
          "state": {
            "_model_module": "@jupyter-widgets/controls",
            "_model_module_version": "1.5.0",
            "_model_name": "ProgressStyleModel",
            "_view_count": null,
            "_view_module": "@jupyter-widgets/base",
            "_view_module_version": "1.2.0",
            "_view_name": "StyleView",
            "bar_color": null,
            "description_width": ""
          }
        }
      }
    }
  },
  "nbformat": 4,
  "nbformat_minor": 0
}
